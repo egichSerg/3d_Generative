{
 "cells": [
  {
   "cell_type": "code",
   "execution_count": 1,
   "id": "036f5b84-f0de-499c-85ec-56f4e30ad009",
   "metadata": {},
   "outputs": [],
   "source": [
    "import torch\n",
    "from pytorch3d.transforms.so3 import (\n",
    "so3_exp_map,\n",
    "so3_log_map,\n",
    "hat_inv, hat\n",
    ")"
   ]
  },
  {
   "cell_type": "code",
   "execution_count": 2,
   "id": "e715928c-be0c-4478-a2e1-0456b44062e7",
   "metadata": {},
   "outputs": [
    {
     "data": {
      "text/plain": [
       "'cuda'"
      ]
     },
     "execution_count": 2,
     "metadata": {},
     "output_type": "execute_result"
    }
   ],
   "source": [
    "device = 'cuda' if torch.cuda.is_available() else 'cpu'\n",
    "device"
   ]
  },
  {
   "cell_type": "markdown",
   "id": "bbed3493-dde7-464f-aee3-b72ca5da752f",
   "metadata": {},
   "source": [
    "## Задаем вращение. Направление вектора - ось поворота, амплитуда - угол поворота\n",
    "#### минибач из 4х поворотов"
   ]
  },
  {
   "cell_type": "code",
   "execution_count": 3,
   "id": "e4f4257e-bce7-40ad-a34c-20fe361c878c",
   "metadata": {},
   "outputs": [],
   "source": [
    "log_rot = torch.zeros([4, 3], device=device)\n",
    "log_rot[0, 0] = 0.001\n",
    "log_rot[0, 1] = 0.0001\n",
    "log_rot[0, 2] = 0.0002\n",
    "\n",
    "log_rot[1, 0] = 0.0001\n",
    "log_rot[1, 1] = 0.001\n",
    "log_rot[1, 2] = 0.0002\n",
    "\n",
    "log_rot[2, 0] = 0.0001\n",
    "log_rot[2, 1] = 0.0002\n",
    "log_rot[2, 2] = 0.001\n",
    "\n",
    "log_rot[3, 0] = 0.001\n",
    "log_rot[3, 1] = 0.002\n",
    "log_rot[3, 2] = 0.003"
   ]
  },
  {
   "cell_type": "markdown",
   "id": "f2cea870-6235-4cd2-a4a1-5690feec1b02",
   "metadata": {},
   "source": [
    "### из вектора поворота в кососимметричную матрицу поворота"
   ]
  },
  {
   "cell_type": "code",
   "execution_count": 4,
   "id": "3950335c-b385-492c-a360-3bc0f472cf79",
   "metadata": {},
   "outputs": [
    {
     "name": "stdout",
     "output_type": "stream",
     "text": [
      "log_rot_hat shape: torch.Size([4, 3, 3])\n",
      "log_rot_hat: tensor([[[ 0.0000e+00, -2.0000e-04,  1.0000e-04],\n",
      "         [ 2.0000e-04,  0.0000e+00, -1.0000e-03],\n",
      "         [-1.0000e-04,  1.0000e-03,  0.0000e+00]],\n",
      "\n",
      "        [[ 0.0000e+00, -2.0000e-04,  1.0000e-03],\n",
      "         [ 2.0000e-04,  0.0000e+00, -1.0000e-04],\n",
      "         [-1.0000e-03,  1.0000e-04,  0.0000e+00]],\n",
      "\n",
      "        [[ 0.0000e+00, -1.0000e-03,  2.0000e-04],\n",
      "         [ 1.0000e-03,  0.0000e+00, -1.0000e-04],\n",
      "         [-2.0000e-04,  1.0000e-04,  0.0000e+00]],\n",
      "\n",
      "        [[ 0.0000e+00, -3.0000e-03,  2.0000e-03],\n",
      "         [ 3.0000e-03,  0.0000e+00, -1.0000e-03],\n",
      "         [-2.0000e-03,  1.0000e-03,  0.0000e+00]]], device='cuda:0')\n"
     ]
    }
   ],
   "source": [
    "log_rot_hat = hat(log_rot)\n",
    "print(f'log_rot_hat shape: {log_rot_hat.shape}')\n",
    "print(f'log_rot_hat: {log_rot_hat}')"
   ]
  },
  {
   "cell_type": "markdown",
   "id": "de24286c-6972-42d2-8e0a-a4a574f687db",
   "metadata": {},
   "source": [
    "### И наоборот..."
   ]
  },
  {
   "cell_type": "code",
   "execution_count": 5,
   "id": "04f74014-65b2-452f-b63d-6e3c0fbd573d",
   "metadata": {},
   "outputs": [
    {
     "name": "stdout",
     "output_type": "stream",
     "text": [
      "log_rot_copy shape =  torch.Size([4, 3])\n",
      "log_rot_copy =  tensor([[1.0000e-03, 1.0000e-04, 2.0000e-04],\n",
      "        [1.0000e-04, 1.0000e-03, 2.0000e-04],\n",
      "        [1.0000e-04, 2.0000e-04, 1.0000e-03],\n",
      "        [1.0000e-03, 2.0000e-03, 3.0000e-03]], device='cuda:0')\n"
     ]
    }
   ],
   "source": [
    "log_rot_copy = hat_inv(log_rot_hat)\n",
    "print('log_rot_copy shape = ', log_rot_copy.shape)\n",
    "print('log_rot_copy = ', log_rot_copy)"
   ]
  },
  {
   "cell_type": "markdown",
   "id": "c16ba6fc-f294-4abf-bebf-6e4c6da52ad3",
   "metadata": {},
   "source": [
    "### из матрицы градиентов в матрицу поворота"
   ]
  },
  {
   "cell_type": "code",
   "execution_count": 6,
   "id": "0a0fff15-f7a4-4c5e-a3e2-26c0d28d2ffe",
   "metadata": {},
   "outputs": [
    {
     "name": "stdout",
     "output_type": "stream",
     "text": [
      "rotation_matrices =  tensor([[[ 1.0000e+00, -1.9995e-04,  1.0010e-04],\n",
      "         [ 2.0005e-04,  1.0000e+00, -9.9997e-04],\n",
      "         [-9.9898e-05,  9.9999e-04,  1.0000e+00]],\n",
      "\n",
      "        [[ 1.0000e+00, -1.9995e-04,  9.9999e-04],\n",
      "         [ 2.0005e-04,  1.0000e+00, -9.9898e-05],\n",
      "         [-9.9997e-04,  1.0010e-04,  1.0000e+00]],\n",
      "\n",
      "        [[ 1.0000e+00, -9.9997e-04,  2.0005e-04],\n",
      "         [ 9.9999e-04,  1.0000e+00, -9.9898e-05],\n",
      "         [-1.9995e-04,  1.0010e-04,  1.0000e+00]],\n",
      "\n",
      "        [[ 9.9999e-01, -2.9989e-03,  2.0015e-03],\n",
      "         [ 3.0010e-03,  9.9999e-01, -9.9698e-04],\n",
      "         [-1.9985e-03,  1.0030e-03,  1.0000e+00]]], device='cuda:0')\n"
     ]
    }
   ],
   "source": [
    "rotation_matrices = so3_exp_map(log_rot)\n",
    "print('rotation_matrices = ', rotation_matrices)"
   ]
  },
  {
   "cell_type": "markdown",
   "id": "a68fa6d2-b49a-4b3a-93ee-20e1ae58856d",
   "metadata": {},
   "source": [
    "### и наоборот)"
   ]
  },
  {
   "cell_type": "code",
   "execution_count": 9,
   "id": "b3822f74-7acd-46b1-b669-b3e6920d475d",
   "metadata": {},
   "outputs": [
    {
     "name": "stdout",
     "output_type": "stream",
     "text": [
      "log_rot_again =  tensor([[9.9999e-04, 9.9999e-05, 2.0000e-04],\n",
      "        [9.9999e-05, 9.9999e-04, 2.0000e-04],\n",
      "        [9.9999e-05, 2.0000e-04, 9.9999e-04],\n",
      "        [9.9999e-04, 2.0000e-03, 3.0000e-03]], device='cuda:0')\n"
     ]
    }
   ],
   "source": [
    "log_rot_again = so3_log_map(rotation_matrices)\n",
    "print('log_rot_again = ', log_rot_again)"
   ]
  },
  {
   "cell_type": "code",
   "execution_count": null,
   "id": "47623ae9-16da-4f0d-adda-76c0b7044d23",
   "metadata": {},
   "outputs": [],
   "source": []
  }
 ],
 "metadata": {
  "kernelspec": {
   "display_name": "Python 3 (ipykernel)",
   "language": "python",
   "name": "python3"
  },
  "language_info": {
   "codemirror_mode": {
    "name": "ipython",
    "version": 3
   },
   "file_extension": ".py",
   "mimetype": "text/x-python",
   "name": "python",
   "nbconvert_exporter": "python",
   "pygments_lexer": "ipython3",
   "version": "3.9.21"
  }
 },
 "nbformat": 4,
 "nbformat_minor": 5
}
