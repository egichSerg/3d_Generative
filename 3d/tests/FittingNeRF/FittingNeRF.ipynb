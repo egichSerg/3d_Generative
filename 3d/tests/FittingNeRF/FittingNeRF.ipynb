{
 "cells": [
  {
   "cell_type": "code",
   "execution_count": 1,
   "id": "a08c5683-5974-4413-a7a5-1093751561a2",
   "metadata": {},
   "outputs": [],
   "source": [
    "import torch\n",
    "import matplotlib.pyplot as plt\n",
    "\n",
    "from pytorch3d.renderer import (\n",
    "FoVPerspectiveCameras,\n",
    "NDCMultinomialRaysampler,\n",
    "MonteCarloRaysampler,\n",
    "EmissionAbsorptionRaymarcher,\n",
    "ImplicitRenderer,\n",
    ")\n",
    "\n",
    "from utils.helper_functions import (\n",
    "generate_rotating_nerf,\n",
    "huber,\n",
    "show_full_render,\n",
    "sample_images_at_mc_locs\n",
    ")\n",
    "\n",
    "from utils.plot_image_grid import image_grid\n",
    "from utils.generate_cow_renders import generate_cow_renders\n",
    "\n",
    "from nerf_model import NeuralRadianceField\n",
    "\n",
    "from tqdm import tqdm"
   ]
  },
  {
   "cell_type": "code",
   "execution_count": 2,
   "id": "085af17c-3121-4786-8fae-454560e4b799",
   "metadata": {},
   "outputs": [],
   "source": [
    "device = 'cuda' if torch.cuda.is_available() else 'cpu'"
   ]
  },
  {
   "cell_type": "code",
   "execution_count": 3,
   "id": "f08014de-cc0b-47ad-91ee-289bc923f8f1",
   "metadata": {},
   "outputs": [
    {
     "name": "stdout",
     "output_type": "stream",
     "text": [
      "Сгенерировано 40 изображений/силуэтов/камер.\n"
     ]
    }
   ],
   "source": [
    "target_cameras, target_images, target_silhouettes = generate_cow_renders(num_views=40, azimuth_range=180)\n",
    "print(f'Сгенерировано {len(target_images)} изображений/силуэтов/камер.')"
   ]
  },
  {
   "cell_type": "code",
   "execution_count": 4,
   "id": "70d7aa54-24e4-4682-94b9-24d67b445774",
   "metadata": {},
   "outputs": [],
   "source": [
    "render_size = target_images.shape[1] # * 2\n",
    "\n",
    "volume_extent_world = 3.0\n",
    "\n",
    "raysample_mc = MonteCarloRaysampler(\n",
    "    min_x = -1.0,\n",
    "    max_x = 1.0,\n",
    "    min_y = -1.0,\n",
    "    max_y = 1.0,\n",
    "    n_rays_per_image = 750,\n",
    "    n_pts_per_ray = 128,\n",
    "    min_depth = 0.1,\n",
    "    max_depth = volume_extent_world\n",
    ")"
   ]
  },
  {
   "cell_type": "code",
   "execution_count": 5,
   "id": "8a67a412-846f-4028-a8d7-0580d1ffd58f",
   "metadata": {},
   "outputs": [],
   "source": [
    "raymarcher = EmissionAbsorptionRaymarcher()"
   ]
  },
  {
   "cell_type": "code",
   "execution_count": 6,
   "id": "59cbdf11-c540-44a7-b7f0-8341802a8639",
   "metadata": {},
   "outputs": [],
   "source": [
    "renderer_mc = ImplicitRenderer(raysampler=raysample_mc, raymarcher=raymarcher)"
   ]
  },
  {
   "cell_type": "code",
   "execution_count": 7,
   "id": "31c14970-09ac-45c3-b715-fc6a63ca7a8b",
   "metadata": {},
   "outputs": [
    {
     "data": {
      "text/plain": [
       "torch.Size([40, 128, 128, 3])"
      ]
     },
     "execution_count": 7,
     "metadata": {},
     "output_type": "execute_result"
    }
   ],
   "source": [
    "target_images.shape"
   ]
  },
  {
   "cell_type": "code",
   "execution_count": 8,
   "id": "069590c0-308a-4e14-823f-606c2b74f989",
   "metadata": {},
   "outputs": [],
   "source": [
    "render_size = target_images.shape[1] # * 2\n",
    "\n",
    "volume_extent_world = 3.0\n",
    "\n",
    "raysampler_grid = NDCMultinomialRaysampler(\n",
    "    image_height = render_size,\n",
    "    image_width = render_size,\n",
    "    n_pts_per_ray = 128,\n",
    "    min_depth = 0.1,\n",
    "    max_depth = volume_extent_world\n",
    ")"
   ]
  },
  {
   "cell_type": "code",
   "execution_count": 9,
   "id": "15d2204a-6a6a-4de6-bbda-f5330bdfb6d1",
   "metadata": {},
   "outputs": [],
   "source": [
    "renderer_grid = ImplicitRenderer(\n",
    "    raysampler = raysampler_grid,\n",
    "    raymarcher=raymarcher\n",
    ")"
   ]
  },
  {
   "cell_type": "code",
   "execution_count": 10,
   "id": "b2ba5d8c-f97a-4a07-96b1-0612dad27842",
   "metadata": {},
   "outputs": [],
   "source": [
    "from utils.helper_functions import show_full_render # dis one is batching a rendered image and concatinating it into full render, also calculating loss"
   ]
  },
  {
   "cell_type": "code",
   "execution_count": 11,
   "id": "cf13ea24-5cd7-4a6c-b9d7-22baf804b92c",
   "metadata": {},
   "outputs": [],
   "source": [
    "neural_radiance_field = NeuralRadianceField()"
   ]
  },
  {
   "cell_type": "code",
   "execution_count": 12,
   "id": "fc55b366-b7c3-4385-b29d-30dc251c6f5a",
   "metadata": {},
   "outputs": [],
   "source": [
    "torch.manual_seed(1)\n",
    "\n",
    "renderer_grid = renderer_grid.to(device)\n",
    "renderer_mc = renderer_mc.to(device)\n",
    "\n",
    "target_cameras = target_cameras.to(device)\n",
    "target_images = target_images.to(device)\n",
    "target_silhouettes = target_silhouettes.to(device)\n",
    "\n",
    "neural_radiance_field = neural_radiance_field.to(device)"
   ]
  },
  {
   "cell_type": "code",
   "execution_count": 13,
   "id": "a4c7fb8a-d5bc-4e46-9a75-552233409898",
   "metadata": {},
   "outputs": [],
   "source": [
    "lr = 1e-3\n",
    "optimizer = torch.optim.Adam(neural_radiance_field.parameters(), lr=lr)\n",
    "batch_size = 6\n",
    "n_iter = 3000"
   ]
  },
  {
   "cell_type": "code",
   "execution_count": 14,
   "id": "b022788e-9ce8-41ad-bc6d-3631ce3d53ba",
   "metadata": {},
   "outputs": [
    {
     "name": "stderr",
     "output_type": "stream",
     "text": [
      "  0%|                                                                                                                                                                                       | 0/3000 [00:00<?, ?it/s]\n"
     ]
    },
    {
     "ename": "OutOfMemoryError",
     "evalue": "CUDA out of memory. Tried to allocate 564.00 MiB (GPU 0; 3.80 GiB total capacity; 1.89 GiB already allocated; 475.69 MiB free; 1.99 GiB reserved in total by PyTorch) If reserved memory is >> allocated memory try setting max_split_size_mb to avoid fragmentation.  See documentation for Memory Management and PYTORCH_CUDA_ALLOC_CONF",
     "output_type": "error",
     "traceback": [
      "\u001b[0;31m---------------------------------------------------------------------------\u001b[0m",
      "\u001b[0;31mOutOfMemoryError\u001b[0m                          Traceback (most recent call last)",
      "Cell \u001b[0;32mIn[14], line 18\u001b[0m\n\u001b[1;32m      6\u001b[0m batch_idx \u001b[38;5;241m=\u001b[39m torch\u001b[38;5;241m.\u001b[39mrandperm(\u001b[38;5;28mlen\u001b[39m(target_cameras))[:batch_size]\n\u001b[1;32m      8\u001b[0m batch_cameras \u001b[38;5;241m=\u001b[39m FoVPerspectiveCameras(\n\u001b[1;32m      9\u001b[0m     R \u001b[38;5;241m=\u001b[39m target_cameras\u001b[38;5;241m.\u001b[39mR[batch_idx],\n\u001b[1;32m     10\u001b[0m     T \u001b[38;5;241m=\u001b[39m target_cameras\u001b[38;5;241m.\u001b[39mT[batch_idx],\n\u001b[0;32m   (...)\u001b[0m\n\u001b[1;32m     14\u001b[0m     fov \u001b[38;5;241m=\u001b[39m target_cameras\u001b[38;5;241m.\u001b[39mfov[batch_idx],\n\u001b[1;32m     15\u001b[0m     device \u001b[38;5;241m=\u001b[39m device)\n\u001b[0;32m---> 18\u001b[0m rendered_images_silhouettes, sampled_rays \u001b[38;5;241m=\u001b[39m \u001b[43mrenderer_mc\u001b[49m\u001b[43m(\u001b[49m\u001b[43m \u001b[49m\u001b[43mcameras\u001b[49m\u001b[38;5;241;43m=\u001b[39;49m\u001b[43mbatch_cameras\u001b[49m\u001b[43m,\u001b[49m\u001b[43m \u001b[49m\u001b[43mvolumetric_function\u001b[49m\u001b[38;5;241;43m=\u001b[39;49m\u001b[43mneural_radiance_field\u001b[49m\u001b[43m)\u001b[49m\n\u001b[1;32m     19\u001b[0m rendered_images, rendered_silhouettes \u001b[38;5;241m=\u001b[39m (rendered_images_silhouettes\u001b[38;5;241m.\u001b[39msplit([\u001b[38;5;241m3\u001b[39m, \u001b[38;5;241m1\u001b[39m], dim\u001b[38;5;241m=\u001b[39m\u001b[38;5;241m-\u001b[39m\u001b[38;5;241m1\u001b[39m))\n\u001b[1;32m     21\u001b[0m silhouettes_at_rays \u001b[38;5;241m=\u001b[39m sample_images_at_mc_locs(target_silhouettes[batch_idx, \u001b[38;5;241m.\u001b[39m\u001b[38;5;241m.\u001b[39m\u001b[38;5;241m.\u001b[39m, \u001b[38;5;28;01mNone\u001b[39;00m], sampled_rays\u001b[38;5;241m.\u001b[39mxys)\n",
      "File \u001b[0;32m~/anaconda3/envs/pytorch3d/lib/python3.9/site-packages/torch/nn/modules/module.py:1190\u001b[0m, in \u001b[0;36mModule._call_impl\u001b[0;34m(self, *input, **kwargs)\u001b[0m\n\u001b[1;32m   1186\u001b[0m \u001b[38;5;66;03m# If we don't have any hooks, we want to skip the rest of the logic in\u001b[39;00m\n\u001b[1;32m   1187\u001b[0m \u001b[38;5;66;03m# this function, and just call forward.\u001b[39;00m\n\u001b[1;32m   1188\u001b[0m \u001b[38;5;28;01mif\u001b[39;00m \u001b[38;5;129;01mnot\u001b[39;00m (\u001b[38;5;28mself\u001b[39m\u001b[38;5;241m.\u001b[39m_backward_hooks \u001b[38;5;129;01mor\u001b[39;00m \u001b[38;5;28mself\u001b[39m\u001b[38;5;241m.\u001b[39m_forward_hooks \u001b[38;5;129;01mor\u001b[39;00m \u001b[38;5;28mself\u001b[39m\u001b[38;5;241m.\u001b[39m_forward_pre_hooks \u001b[38;5;129;01mor\u001b[39;00m _global_backward_hooks\n\u001b[1;32m   1189\u001b[0m         \u001b[38;5;129;01mor\u001b[39;00m _global_forward_hooks \u001b[38;5;129;01mor\u001b[39;00m _global_forward_pre_hooks):\n\u001b[0;32m-> 1190\u001b[0m     \u001b[38;5;28;01mreturn\u001b[39;00m \u001b[43mforward_call\u001b[49m\u001b[43m(\u001b[49m\u001b[38;5;241;43m*\u001b[39;49m\u001b[38;5;28;43minput\u001b[39;49m\u001b[43m,\u001b[49m\u001b[43m \u001b[49m\u001b[38;5;241;43m*\u001b[39;49m\u001b[38;5;241;43m*\u001b[39;49m\u001b[43mkwargs\u001b[49m\u001b[43m)\u001b[49m\n\u001b[1;32m   1191\u001b[0m \u001b[38;5;66;03m# Do not call functions when jit is used\u001b[39;00m\n\u001b[1;32m   1192\u001b[0m full_backward_hooks, non_full_backward_hooks \u001b[38;5;241m=\u001b[39m [], []\n",
      "File \u001b[0;32m~/anaconda3/envs/pytorch3d/lib/python3.9/site-packages/pytorch3d/renderer/implicit/renderer.py:172\u001b[0m, in \u001b[0;36mImplicitRenderer.forward\u001b[0;34m(self, cameras, volumetric_function, **kwargs)\u001b[0m\n\u001b[1;32m    160\u001b[0m ray_bundle \u001b[38;5;241m=\u001b[39m \u001b[38;5;28mself\u001b[39m\u001b[38;5;241m.\u001b[39mraysampler(\n\u001b[1;32m    161\u001b[0m     cameras\u001b[38;5;241m=\u001b[39mcameras, volumetric_function\u001b[38;5;241m=\u001b[39mvolumetric_function, \u001b[38;5;241m*\u001b[39m\u001b[38;5;241m*\u001b[39mkwargs\n\u001b[1;32m    162\u001b[0m )\n\u001b[1;32m    163\u001b[0m \u001b[38;5;66;03m# ray_bundle.origins - minibatch x ... x 3\u001b[39;00m\n\u001b[1;32m    164\u001b[0m \u001b[38;5;66;03m# ray_bundle.directions - minibatch x ... x 3\u001b[39;00m\n\u001b[1;32m    165\u001b[0m \u001b[38;5;66;03m# ray_bundle.lengths - minibatch x ... x n_pts_per_ray\u001b[39;00m\n\u001b[0;32m   (...)\u001b[0m\n\u001b[1;32m    170\u001b[0m \u001b[38;5;66;03m# ray points\u001b[39;00m\n\u001b[1;32m    171\u001b[0m \u001b[38;5;66;03m# pyre-fixme[23]: Unable to unpack `object` into 2 values.\u001b[39;00m\n\u001b[0;32m--> 172\u001b[0m rays_densities, rays_features \u001b[38;5;241m=\u001b[39m \u001b[43mvolumetric_function\u001b[49m\u001b[43m(\u001b[49m\n\u001b[1;32m    173\u001b[0m \u001b[43m    \u001b[49m\u001b[43mray_bundle\u001b[49m\u001b[38;5;241;43m=\u001b[39;49m\u001b[43mray_bundle\u001b[49m\u001b[43m,\u001b[49m\u001b[43m \u001b[49m\u001b[43mcameras\u001b[49m\u001b[38;5;241;43m=\u001b[39;49m\u001b[43mcameras\u001b[49m\u001b[43m,\u001b[49m\u001b[43m \u001b[49m\u001b[38;5;241;43m*\u001b[39;49m\u001b[38;5;241;43m*\u001b[39;49m\u001b[43mkwargs\u001b[49m\n\u001b[1;32m    174\u001b[0m \u001b[43m\u001b[49m\u001b[43m)\u001b[49m\n\u001b[1;32m    175\u001b[0m \u001b[38;5;66;03m# ray_densities - minibatch x ... x n_pts_per_ray x density_dim\u001b[39;00m\n\u001b[1;32m    176\u001b[0m \u001b[38;5;66;03m# ray_features - minibatch x ... x n_pts_per_ray x feature_dim\u001b[39;00m\n\u001b[1;32m    177\u001b[0m \n\u001b[1;32m    178\u001b[0m \u001b[38;5;66;03m# finally, march along the sampled rays to obtain the renders\u001b[39;00m\n\u001b[1;32m    179\u001b[0m images \u001b[38;5;241m=\u001b[39m \u001b[38;5;28mself\u001b[39m\u001b[38;5;241m.\u001b[39mraymarcher(\n\u001b[1;32m    180\u001b[0m     rays_densities\u001b[38;5;241m=\u001b[39mrays_densities,\n\u001b[1;32m    181\u001b[0m     rays_features\u001b[38;5;241m=\u001b[39mrays_features,\n\u001b[1;32m    182\u001b[0m     ray_bundle\u001b[38;5;241m=\u001b[39mray_bundle,\n\u001b[1;32m    183\u001b[0m     \u001b[38;5;241m*\u001b[39m\u001b[38;5;241m*\u001b[39mkwargs,\n\u001b[1;32m    184\u001b[0m )\n",
      "File \u001b[0;32m~/anaconda3/envs/pytorch3d/lib/python3.9/site-packages/torch/nn/modules/module.py:1190\u001b[0m, in \u001b[0;36mModule._call_impl\u001b[0;34m(self, *input, **kwargs)\u001b[0m\n\u001b[1;32m   1186\u001b[0m \u001b[38;5;66;03m# If we don't have any hooks, we want to skip the rest of the logic in\u001b[39;00m\n\u001b[1;32m   1187\u001b[0m \u001b[38;5;66;03m# this function, and just call forward.\u001b[39;00m\n\u001b[1;32m   1188\u001b[0m \u001b[38;5;28;01mif\u001b[39;00m \u001b[38;5;129;01mnot\u001b[39;00m (\u001b[38;5;28mself\u001b[39m\u001b[38;5;241m.\u001b[39m_backward_hooks \u001b[38;5;129;01mor\u001b[39;00m \u001b[38;5;28mself\u001b[39m\u001b[38;5;241m.\u001b[39m_forward_hooks \u001b[38;5;129;01mor\u001b[39;00m \u001b[38;5;28mself\u001b[39m\u001b[38;5;241m.\u001b[39m_forward_pre_hooks \u001b[38;5;129;01mor\u001b[39;00m _global_backward_hooks\n\u001b[1;32m   1189\u001b[0m         \u001b[38;5;129;01mor\u001b[39;00m _global_forward_hooks \u001b[38;5;129;01mor\u001b[39;00m _global_forward_pre_hooks):\n\u001b[0;32m-> 1190\u001b[0m     \u001b[38;5;28;01mreturn\u001b[39;00m \u001b[43mforward_call\u001b[49m\u001b[43m(\u001b[49m\u001b[38;5;241;43m*\u001b[39;49m\u001b[38;5;28;43minput\u001b[39;49m\u001b[43m,\u001b[49m\u001b[43m \u001b[49m\u001b[38;5;241;43m*\u001b[39;49m\u001b[38;5;241;43m*\u001b[39;49m\u001b[43mkwargs\u001b[49m\u001b[43m)\u001b[49m\n\u001b[1;32m   1191\u001b[0m \u001b[38;5;66;03m# Do not call functions when jit is used\u001b[39;00m\n\u001b[1;32m   1192\u001b[0m full_backward_hooks, non_full_backward_hooks \u001b[38;5;241m=\u001b[39m [], []\n",
      "File \u001b[0;32m/home/yoy/jupyter/3d/tests/FittingNeRF/nerf_model.py:199\u001b[0m, in \u001b[0;36mNeuralRadianceField.forward\u001b[0;34m(self, ray_bundle, **kwargs)\u001b[0m\n\u001b[1;32m    193\u001b[0m embeds \u001b[38;5;241m=\u001b[39m \u001b[38;5;28mself\u001b[39m\u001b[38;5;241m.\u001b[39mharmonic_embedding(\n\u001b[1;32m    194\u001b[0m     rays_points_world\n\u001b[1;32m    195\u001b[0m )\n\u001b[1;32m    196\u001b[0m \u001b[38;5;66;03m# embeds.shape = [minibatch x ... x self.n_harmonic_functions*6]\u001b[39;00m\n\u001b[1;32m    197\u001b[0m \n\u001b[1;32m    198\u001b[0m \u001b[38;5;66;03m# self.mlp maps each harmonic embedding to a latent feature space.\u001b[39;00m\n\u001b[0;32m--> 199\u001b[0m features \u001b[38;5;241m=\u001b[39m \u001b[38;5;28;43mself\u001b[39;49m\u001b[38;5;241;43m.\u001b[39;49m\u001b[43mmlp\u001b[49m\u001b[43m(\u001b[49m\u001b[43membeds\u001b[49m\u001b[43m)\u001b[49m\n\u001b[1;32m    200\u001b[0m \u001b[38;5;66;03m# features.shape = [minibatch x ... x n_hidden_neurons]\u001b[39;00m\n\u001b[1;32m    201\u001b[0m \n\u001b[1;32m    202\u001b[0m \u001b[38;5;66;03m# Finally, given the per-point features, \u001b[39;00m\n\u001b[1;32m    203\u001b[0m \u001b[38;5;66;03m# execute the density and color branches.\u001b[39;00m\n\u001b[1;32m    205\u001b[0m rays_densities \u001b[38;5;241m=\u001b[39m \u001b[38;5;28mself\u001b[39m\u001b[38;5;241m.\u001b[39m_get_densities(features)\n",
      "File \u001b[0;32m~/anaconda3/envs/pytorch3d/lib/python3.9/site-packages/torch/nn/modules/module.py:1190\u001b[0m, in \u001b[0;36mModule._call_impl\u001b[0;34m(self, *input, **kwargs)\u001b[0m\n\u001b[1;32m   1186\u001b[0m \u001b[38;5;66;03m# If we don't have any hooks, we want to skip the rest of the logic in\u001b[39;00m\n\u001b[1;32m   1187\u001b[0m \u001b[38;5;66;03m# this function, and just call forward.\u001b[39;00m\n\u001b[1;32m   1188\u001b[0m \u001b[38;5;28;01mif\u001b[39;00m \u001b[38;5;129;01mnot\u001b[39;00m (\u001b[38;5;28mself\u001b[39m\u001b[38;5;241m.\u001b[39m_backward_hooks \u001b[38;5;129;01mor\u001b[39;00m \u001b[38;5;28mself\u001b[39m\u001b[38;5;241m.\u001b[39m_forward_hooks \u001b[38;5;129;01mor\u001b[39;00m \u001b[38;5;28mself\u001b[39m\u001b[38;5;241m.\u001b[39m_forward_pre_hooks \u001b[38;5;129;01mor\u001b[39;00m _global_backward_hooks\n\u001b[1;32m   1189\u001b[0m         \u001b[38;5;129;01mor\u001b[39;00m _global_forward_hooks \u001b[38;5;129;01mor\u001b[39;00m _global_forward_pre_hooks):\n\u001b[0;32m-> 1190\u001b[0m     \u001b[38;5;28;01mreturn\u001b[39;00m \u001b[43mforward_call\u001b[49m\u001b[43m(\u001b[49m\u001b[38;5;241;43m*\u001b[39;49m\u001b[38;5;28;43minput\u001b[39;49m\u001b[43m,\u001b[49m\u001b[43m \u001b[49m\u001b[38;5;241;43m*\u001b[39;49m\u001b[38;5;241;43m*\u001b[39;49m\u001b[43mkwargs\u001b[49m\u001b[43m)\u001b[49m\n\u001b[1;32m   1191\u001b[0m \u001b[38;5;66;03m# Do not call functions when jit is used\u001b[39;00m\n\u001b[1;32m   1192\u001b[0m full_backward_hooks, non_full_backward_hooks \u001b[38;5;241m=\u001b[39m [], []\n",
      "File \u001b[0;32m~/anaconda3/envs/pytorch3d/lib/python3.9/site-packages/torch/nn/modules/container.py:204\u001b[0m, in \u001b[0;36mSequential.forward\u001b[0;34m(self, input)\u001b[0m\n\u001b[1;32m    202\u001b[0m \u001b[38;5;28;01mdef\u001b[39;00m \u001b[38;5;21mforward\u001b[39m(\u001b[38;5;28mself\u001b[39m, \u001b[38;5;28minput\u001b[39m):\n\u001b[1;32m    203\u001b[0m     \u001b[38;5;28;01mfor\u001b[39;00m module \u001b[38;5;129;01min\u001b[39;00m \u001b[38;5;28mself\u001b[39m:\n\u001b[0;32m--> 204\u001b[0m         \u001b[38;5;28minput\u001b[39m \u001b[38;5;241m=\u001b[39m \u001b[43mmodule\u001b[49m\u001b[43m(\u001b[49m\u001b[38;5;28;43minput\u001b[39;49m\u001b[43m)\u001b[49m\n\u001b[1;32m    205\u001b[0m     \u001b[38;5;28;01mreturn\u001b[39;00m \u001b[38;5;28minput\u001b[39m\n",
      "File \u001b[0;32m~/anaconda3/envs/pytorch3d/lib/python3.9/site-packages/torch/nn/modules/module.py:1190\u001b[0m, in \u001b[0;36mModule._call_impl\u001b[0;34m(self, *input, **kwargs)\u001b[0m\n\u001b[1;32m   1186\u001b[0m \u001b[38;5;66;03m# If we don't have any hooks, we want to skip the rest of the logic in\u001b[39;00m\n\u001b[1;32m   1187\u001b[0m \u001b[38;5;66;03m# this function, and just call forward.\u001b[39;00m\n\u001b[1;32m   1188\u001b[0m \u001b[38;5;28;01mif\u001b[39;00m \u001b[38;5;129;01mnot\u001b[39;00m (\u001b[38;5;28mself\u001b[39m\u001b[38;5;241m.\u001b[39m_backward_hooks \u001b[38;5;129;01mor\u001b[39;00m \u001b[38;5;28mself\u001b[39m\u001b[38;5;241m.\u001b[39m_forward_hooks \u001b[38;5;129;01mor\u001b[39;00m \u001b[38;5;28mself\u001b[39m\u001b[38;5;241m.\u001b[39m_forward_pre_hooks \u001b[38;5;129;01mor\u001b[39;00m _global_backward_hooks\n\u001b[1;32m   1189\u001b[0m         \u001b[38;5;129;01mor\u001b[39;00m _global_forward_hooks \u001b[38;5;129;01mor\u001b[39;00m _global_forward_pre_hooks):\n\u001b[0;32m-> 1190\u001b[0m     \u001b[38;5;28;01mreturn\u001b[39;00m \u001b[43mforward_call\u001b[49m\u001b[43m(\u001b[49m\u001b[38;5;241;43m*\u001b[39;49m\u001b[38;5;28;43minput\u001b[39;49m\u001b[43m,\u001b[49m\u001b[43m \u001b[49m\u001b[38;5;241;43m*\u001b[39;49m\u001b[38;5;241;43m*\u001b[39;49m\u001b[43mkwargs\u001b[49m\u001b[43m)\u001b[49m\n\u001b[1;32m   1191\u001b[0m \u001b[38;5;66;03m# Do not call functions when jit is used\u001b[39;00m\n\u001b[1;32m   1192\u001b[0m full_backward_hooks, non_full_backward_hooks \u001b[38;5;241m=\u001b[39m [], []\n",
      "File \u001b[0;32m~/anaconda3/envs/pytorch3d/lib/python3.9/site-packages/torch/nn/modules/linear.py:114\u001b[0m, in \u001b[0;36mLinear.forward\u001b[0;34m(self, input)\u001b[0m\n\u001b[1;32m    113\u001b[0m \u001b[38;5;28;01mdef\u001b[39;00m \u001b[38;5;21mforward\u001b[39m(\u001b[38;5;28mself\u001b[39m, \u001b[38;5;28minput\u001b[39m: Tensor) \u001b[38;5;241m-\u001b[39m\u001b[38;5;241m>\u001b[39m Tensor:\n\u001b[0;32m--> 114\u001b[0m     \u001b[38;5;28;01mreturn\u001b[39;00m \u001b[43mF\u001b[49m\u001b[38;5;241;43m.\u001b[39;49m\u001b[43mlinear\u001b[49m\u001b[43m(\u001b[49m\u001b[38;5;28;43minput\u001b[39;49m\u001b[43m,\u001b[49m\u001b[43m \u001b[49m\u001b[38;5;28;43mself\u001b[39;49m\u001b[38;5;241;43m.\u001b[39;49m\u001b[43mweight\u001b[49m\u001b[43m,\u001b[49m\u001b[43m \u001b[49m\u001b[38;5;28;43mself\u001b[39;49m\u001b[38;5;241;43m.\u001b[39;49m\u001b[43mbias\u001b[49m\u001b[43m)\u001b[49m\n",
      "\u001b[0;31mOutOfMemoryError\u001b[0m: CUDA out of memory. Tried to allocate 564.00 MiB (GPU 0; 3.80 GiB total capacity; 1.89 GiB already allocated; 475.69 MiB free; 1.99 GiB reserved in total by PyTorch) If reserved memory is >> allocated memory try setting max_split_size_mb to avoid fragmentation.  See documentation for Memory Management and PYTORCH_CUDA_ALLOC_CONF"
     ]
    }
   ],
   "source": [
    "loss_history_color, loss_history_sil = [], []\n",
    "for iteration in tqdm(range(n_iter)):\n",
    "    if iteration == round(n_iter * 0.75):\n",
    "        optimizer = torch.optim.Adam(neural_radiance_field.parameters(), lr=lr * 0.1)\n",
    "    \n",
    "    batch_idx = torch.randperm(len(target_cameras))[:batch_size]\n",
    "    \n",
    "    batch_cameras = FoVPerspectiveCameras(\n",
    "        R = target_cameras.R[batch_idx],\n",
    "        T = target_cameras.T[batch_idx],\n",
    "        znear = target_cameras.znear[batch_idx],\n",
    "        zfar = target_cameras.zfar[batch_idx],\n",
    "        aspect_ratio = target_cameras.aspect_ratio[batch_idx],\n",
    "        fov = target_cameras.fov[batch_idx],\n",
    "        device = device)\n",
    "\n",
    "\n",
    "    rendered_images_silhouettes, sampled_rays = renderer_mc( cameras=batch_cameras, volumetric_function=neural_radiance_field)\n",
    "    rendered_images, rendered_silhouettes = (rendered_images_silhouettes.split([3, 1], dim=-1))\n",
    "    \n",
    "    silhouettes_at_rays = sample_images_at_mc_locs(target_silhouettes[batch_idx, ..., None], sampled_rays.xys)\n",
    "    sil_err = huber(rendered_silhouettes, silhouettes_at_rays).abs().mean()\n",
    "\n",
    "    colors_at_rays = sample_images_at_mc_locs(target_images[batch_idx], sampled_rays.xys)\n",
    "    col_err = huber(rendered_images, colors_at_rays).abs().mean()\n",
    "\n",
    "    loss = color_err + sil_err\n",
    "    loss_history_color.append(float(color_err))\n",
    "    loss_history_sil.append(float(sil_err))\n",
    "    \n",
    "    optimizer.zero_grad()\n",
    "    loss.backward()\n",
    "    optimizer.step()\n",
    "\n",
    "    if iteration % 100 == 0:\n",
    "        show_idx = torch.randperm(len(target_cameras))[:1]\n",
    "        fig = show_full_render(\n",
    "            neural_radiance_field,\n",
    "            FoVPerspectiveCameras(\n",
    "                R = target_cameras.R[show_idx],\n",
    "                T = target_cameras.T[show_idx],\n",
    "                znear = target_cameras.znear[show_idx],\n",
    "                zfar = target_cameras.zfar[show_idx],\n",
    "                aspect_ratio = target_cameras.aspect_ratio[show_idx],\n",
    "                fov = target_cameras.fov[show_idx],\n",
    "                device = device,\n",
    "                ),\n",
    "            target_images[show_idx][0],\n",
    "            target_silhouettes[show_idx][0],\n",
    "            renderer_grid,\n",
    "            loss_history_color,\n",
    "            loss_history_sil,\n",
    "            )\n",
    "        fig.savefig(f'intermediate_{iteration}')"
   ]
  },
  {
   "cell_type": "code",
   "execution_count": null,
   "id": "c4e69a38-9bcb-40f9-aa9d-25703bb308cd",
   "metadata": {},
   "outputs": [],
   "source": []
  }
 ],
 "metadata": {
  "kernelspec": {
   "display_name": "Python 3 (ipykernel)",
   "language": "python",
   "name": "python3"
  },
  "language_info": {
   "codemirror_mode": {
    "name": "ipython",
    "version": 3
   },
   "file_extension": ".py",
   "mimetype": "text/x-python",
   "name": "python",
   "nbconvert_exporter": "python",
   "pygments_lexer": "ipython3",
   "version": "3.9.21"
  }
 },
 "nbformat": 4,
 "nbformat_minor": 5
}
