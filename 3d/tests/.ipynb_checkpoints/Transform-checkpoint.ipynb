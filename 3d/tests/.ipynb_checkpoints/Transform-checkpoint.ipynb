{
 "cells": [
  {
   "cell_type": "code",
   "execution_count": 1,
   "id": "036f5b84-f0de-499c-85ec-56f4e30ad009",
   "metadata": {},
   "outputs": [],
   "source": [
    "import torch\n",
    "from pytorch3d.transforms.so3 import (\n",
    "so3_exp_map,\n",
    "so3_log_map,\n",
    "hat_inv, hat\n",
    ")"
   ]
  },
  {
   "cell_type": "code",
   "execution_count": 2,
   "id": "e715928c-be0c-4478-a2e1-0456b44062e7",
   "metadata": {},
   "outputs": [
    {
     "data": {
      "text/plain": [
       "'cuda'"
      ]
     },
     "execution_count": 2,
     "metadata": {},
     "output_type": "execute_result"
    }
   ],
   "source": [
    "device = 'cuda' if torch.cuda.is_available() else 'cpu'\n",
    "device"
   ]
  },
  {
   "cell_type": "markdown",
   "id": "bbed3493-dde7-464f-aee3-b72ca5da752f",
   "metadata": {},
   "source": [
    "## Задаем вращение. Направление вектора - ось поворота, амплитуда - угол поворота\n",
    "#### минибач из 4х поворотов"
   ]
  },
  {
   "cell_type": "code",
   "execution_count": 3,
   "id": "e4f4257e-bce7-40ad-a34c-20fe361c878c",
   "metadata": {},
   "outputs": [],
   "source": [
    "log_rot = torch.zeros([4, 3], device=device)\n",
    "log_rot[0, 0] = 0.001\n",
    "log_rot[0, 1] = 0.0001\n",
    "log_rot[0, 2] = 0.0002\n",
    "\n",
    "log_rot[1, 0] = 0.0001\n",
    "log_rot[1, 1] = 0.001\n",
    "log_rot[1, 2] = 0.0002\n",
    "\n",
    "log_rot[2, 0] = 0.0001\n",
    "log_rot[2, 1] = 0.0002\n",
    "log_rot[2, 2] = 0.001\n",
    "\n",
    "log_rot[3, 0] = 0.001\n",
    "log_rot[3, 1] = 0.002\n",
    "log_rot[3, 2] = 0.003"
   ]
  },
  {
   "cell_type": "code",
   "execution_count": null,
   "id": "3950335c-b385-492c-a360-3bc0f472cf79",
   "metadata": {},
   "outputs": [],
   "source": [
    "log_rot_hat = hat(log_rot)\n",
    "print(f'log_rot_hat shape: {log_rot_hat.shape}')\n",
    "print(f'log_rot_hat: {log_rot_hat}')"
   ]
  }
 ],
 "metadata": {
  "kernelspec": {
   "display_name": "Python 3 (ipykernel)",
   "language": "python",
   "name": "python3"
  },
  "language_info": {
   "codemirror_mode": {
    "name": "ipython",
    "version": 3
   },
   "file_extension": ".py",
   "mimetype": "text/x-python",
   "name": "python",
   "nbconvert_exporter": "python",
   "pygments_lexer": "ipython3",
   "version": "3.9.21"
  }
 },
 "nbformat": 4,
 "nbformat_minor": 5
}
