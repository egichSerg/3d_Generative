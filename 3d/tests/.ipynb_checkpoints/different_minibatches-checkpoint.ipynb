{
 "cells": [
  {
   "cell_type": "code",
   "execution_count": 31,
   "id": "2e332880-5b80-4c27-a1fb-44f5374fba48",
   "metadata": {},
   "outputs": [],
   "source": [
    "import open3d, os, torch\n",
    "\n",
    "from pytorch3d.io import load_objs_as_meshes, save_obj\n",
    "from pytorch3d.structures.meshes import join_meshes_as_batch\n",
    "\n",
    "from pytorch3d.ops import sample_points_from_meshes\n",
    "from pytorch3d.loss import chamfer_distance\n",
    "\n",
    "import numpy as np\n",
    "from pathlib import Path"
   ]
  },
  {
   "cell_type": "code",
   "execution_count": 3,
   "id": "c6ef5260-3f28-4027-8467-c4e3f1af84d0",
   "metadata": {},
   "outputs": [
    {
     "name": "stdout",
     "output_type": "stream",
     "text": [
      "  % Total    % Received % Xferd  Average Speed   Time    Time     Time  Current\n",
      "                                 Dload  Upload   Total   Spent    Left  Speed\n",
      "100    83  100    83    0     0    161      0 --:--:-- --:--:-- --:--:--   161\n",
      "  % Total    % Received % Xferd  Average Speed   Time    Time     Time  Current\n",
      "                                 Dload  Upload   Total   Spent    Left  Speed\n",
      "100   346  100   346    0     0    647      0 --:--:-- --:--:-- --:--:--   647\n",
      "  % Total    % Received % Xferd  Average Speed   Time    Time     Time  Current\n",
      "                                 Dload  Upload   Total   Spent    Left  Speed\n",
      "100   338  100   338    0     0    740      0 --:--:-- --:--:-- --:--:--   741\n",
      "  % Total    % Received % Xferd  Average Speed   Time    Time     Time  Current\n",
      "                                 Dload  Upload   Total   Spent    Left  Speed\n",
      "100  1053  100  1053    0     0   2025      0 --:--:-- --:--:-- --:--:--  2025\n"
     ]
    }
   ],
   "source": [
    "!curl https://raw.githubusercontent.com/PacktPublishing/3D-Deep-Learning-with-Python/refs/heads/main/chap2/data/cube.mtl -o ./data/cube.mtl\n",
    "!curl https://raw.githubusercontent.com/PacktPublishing/3D-Deep-Learning-with-Python/refs/heads/main/chap2/data/cube.obj -o ./data/cube.obj\n",
    "!curl https://raw.githubusercontent.com/PacktPublishing/3D-Deep-Learning-with-Python/refs/heads/main/chap2/data/diamond.obj -o ./data/diamond.obj\n",
    "!curl https://raw.githubusercontent.com/PacktPublishing/3D-Deep-Learning-with-Python/refs/heads/main/chap2/data/dodecahedron.obj -o ./data/dodecahedron.obj"
   ]
  },
  {
   "cell_type": "code",
   "execution_count": 2,
   "id": "7fbf090e-8287-4613-952e-c9eb969d7c6c",
   "metadata": {},
   "outputs": [
    {
     "data": {
      "text/plain": [
       "'cuda'"
      ]
     },
     "execution_count": 2,
     "metadata": {},
     "output_type": "execute_result"
    }
   ],
   "source": [
    "device = 'cuda' if torch.cuda.is_available() else 'cpu'\n",
    "device"
   ]
  },
  {
   "cell_type": "markdown",
   "id": "00f5d43e-ae70-4ca3-b39d-390c78d78934",
   "metadata": {},
   "source": [
    "## Загрузка батчей"
   ]
  },
  {
   "cell_type": "code",
   "execution_count": 5,
   "id": "764b4b0a-c813-4e59-bd55-c634bc834e29",
   "metadata": {},
   "outputs": [],
   "source": [
    "mesh_names = ['cube.obj', 'diamond.obj', 'dodecahedron.obj']\n",
    "data_path = Path('./data')"
   ]
  },
  {
   "cell_type": "code",
   "execution_count": 7,
   "id": "6f63bdc9-9e55-4c3f-b56c-b89e338a29a3",
   "metadata": {},
   "outputs": [
    {
     "name": "stderr",
     "output_type": "stream",
     "text": [
      "error: XDG_RUNTIME_DIR not set in the environment.\n",
      "error: XDG_RUNTIME_DIR not set in the environment.\n",
      "error: XDG_RUNTIME_DIR not set in the environment.\n"
     ]
    }
   ],
   "source": [
    "for mesh_name in mesh_names:\n",
    "    mesh = open3d.io.read_triangle_mesh(data_path / mesh_name)\n",
    "    open3d.visualization.draw_geometries([mesh], \n",
    "                                         mesh_show_wireframe=True, \n",
    "                                         mesh_show_back_face=True)"
   ]
  },
  {
   "cell_type": "code",
   "execution_count": 9,
   "id": "3b2f856f-6629-485f-8813-c173e6a9fb9d",
   "metadata": {},
   "outputs": [
    {
     "name": "stderr",
     "output_type": "stream",
     "text": [
      "/root/anaconda3/envs/pytorch3d/lib/python3.9/site-packages/pytorch3d/io/obj_io.py:544: UserWarning: No mtl file provided\n",
      "  warnings.warn(\"No mtl file provided\")\n"
     ]
    }
   ],
   "source": [
    "mesh_list = []\n",
    "for mesh_name in mesh_names:\n",
    "    mesh = load_objs_as_meshes([data_path / mesh_name], device=device)\n",
    "    mesh_list.append(mesh)\n",
    "    \n",
    "mesh_batch = join_meshes_as_batch(mesh_list, include_textures = False)"
   ]
  },
  {
   "cell_type": "code",
   "execution_count": 10,
   "id": "b00f5474-8573-4100-8f1f-9bb44c5d0cbf",
   "metadata": {},
   "outputs": [
    {
     "name": "stdout",
     "output_type": "stream",
     "text": [
      "[tensor([[-0.5000, -0.5000,  0.5000],\n",
      "        [-0.5000, -0.5000, -0.5000],\n",
      "        [-0.5000,  0.5000, -0.5000],\n",
      "        [-0.5000,  0.5000,  0.5000],\n",
      "        [ 0.5000, -0.5000,  0.5000],\n",
      "        [ 0.5000, -0.5000, -0.5000],\n",
      "        [ 0.5000,  0.5000, -0.5000],\n",
      "        [ 0.5000,  0.5000,  0.5000]], device='cuda:0'), tensor([[  0.,   0.,  78.],\n",
      "        [ 45.,  45.,   0.],\n",
      "        [ 45., -45.,   0.],\n",
      "        [-45., -45.,   0.],\n",
      "        [-45.,  45.,   0.],\n",
      "        [  0.,   0., -78.]], device='cuda:0'), tensor([[-0.5774, -0.5774,  0.5774],\n",
      "        [ 0.9342,  0.3568,  0.0000],\n",
      "        [ 0.9342, -0.3568,  0.0000],\n",
      "        [-0.9342,  0.3568,  0.0000],\n",
      "        [-0.9342, -0.3568,  0.0000],\n",
      "        [ 0.0000,  0.9342,  0.3568],\n",
      "        [ 0.0000,  0.9342, -0.3568],\n",
      "        [ 0.3568,  0.0000, -0.9342],\n",
      "        [-0.3568,  0.0000, -0.9342],\n",
      "        [ 0.0000, -0.9342, -0.3568],\n",
      "        [ 0.0000, -0.9342,  0.3568],\n",
      "        [ 0.3568,  0.0000,  0.9342],\n",
      "        [-0.3568,  0.0000,  0.9342],\n",
      "        [ 0.5774,  0.5774, -0.5774],\n",
      "        [ 0.5774,  0.5774,  0.5774],\n",
      "        [-0.5774,  0.5774, -0.5774],\n",
      "        [-0.5774,  0.5774,  0.5774],\n",
      "        [ 0.5774, -0.5774, -0.5774],\n",
      "        [ 0.5774, -0.5774,  0.5774],\n",
      "        [-0.5774, -0.5774, -0.5774]], device='cuda:0')]\n"
     ]
    }
   ],
   "source": [
    "vertex_list = mesh_batch.verts_list()\n",
    "print(vertex_list)"
   ]
  },
  {
   "cell_type": "code",
   "execution_count": 11,
   "id": "96905d3c-4283-45ea-af93-28965f652490",
   "metadata": {},
   "outputs": [
    {
     "name": "stdout",
     "output_type": "stream",
     "text": [
      "tensor([[[ -0.5000,  -0.5000,   0.5000],\n",
      "         [ -0.5000,  -0.5000,  -0.5000],\n",
      "         [ -0.5000,   0.5000,  -0.5000],\n",
      "         [ -0.5000,   0.5000,   0.5000],\n",
      "         [  0.5000,  -0.5000,   0.5000],\n",
      "         [  0.5000,  -0.5000,  -0.5000],\n",
      "         [  0.5000,   0.5000,  -0.5000],\n",
      "         [  0.5000,   0.5000,   0.5000],\n",
      "         [  0.0000,   0.0000,   0.0000],\n",
      "         [  0.0000,   0.0000,   0.0000],\n",
      "         [  0.0000,   0.0000,   0.0000],\n",
      "         [  0.0000,   0.0000,   0.0000],\n",
      "         [  0.0000,   0.0000,   0.0000],\n",
      "         [  0.0000,   0.0000,   0.0000],\n",
      "         [  0.0000,   0.0000,   0.0000],\n",
      "         [  0.0000,   0.0000,   0.0000],\n",
      "         [  0.0000,   0.0000,   0.0000],\n",
      "         [  0.0000,   0.0000,   0.0000],\n",
      "         [  0.0000,   0.0000,   0.0000],\n",
      "         [  0.0000,   0.0000,   0.0000]],\n",
      "\n",
      "        [[  0.0000,   0.0000,  78.0000],\n",
      "         [ 45.0000,  45.0000,   0.0000],\n",
      "         [ 45.0000, -45.0000,   0.0000],\n",
      "         [-45.0000, -45.0000,   0.0000],\n",
      "         [-45.0000,  45.0000,   0.0000],\n",
      "         [  0.0000,   0.0000, -78.0000],\n",
      "         [  0.0000,   0.0000,   0.0000],\n",
      "         [  0.0000,   0.0000,   0.0000],\n",
      "         [  0.0000,   0.0000,   0.0000],\n",
      "         [  0.0000,   0.0000,   0.0000],\n",
      "         [  0.0000,   0.0000,   0.0000],\n",
      "         [  0.0000,   0.0000,   0.0000],\n",
      "         [  0.0000,   0.0000,   0.0000],\n",
      "         [  0.0000,   0.0000,   0.0000],\n",
      "         [  0.0000,   0.0000,   0.0000],\n",
      "         [  0.0000,   0.0000,   0.0000],\n",
      "         [  0.0000,   0.0000,   0.0000],\n",
      "         [  0.0000,   0.0000,   0.0000],\n",
      "         [  0.0000,   0.0000,   0.0000],\n",
      "         [  0.0000,   0.0000,   0.0000]],\n",
      "\n",
      "        [[ -0.5774,  -0.5774,   0.5774],\n",
      "         [  0.9342,   0.3568,   0.0000],\n",
      "         [  0.9342,  -0.3568,   0.0000],\n",
      "         [ -0.9342,   0.3568,   0.0000],\n",
      "         [ -0.9342,  -0.3568,   0.0000],\n",
      "         [  0.0000,   0.9342,   0.3568],\n",
      "         [  0.0000,   0.9342,  -0.3568],\n",
      "         [  0.3568,   0.0000,  -0.9342],\n",
      "         [ -0.3568,   0.0000,  -0.9342],\n",
      "         [  0.0000,  -0.9342,  -0.3568],\n",
      "         [  0.0000,  -0.9342,   0.3568],\n",
      "         [  0.3568,   0.0000,   0.9342],\n",
      "         [ -0.3568,   0.0000,   0.9342],\n",
      "         [  0.5774,   0.5774,  -0.5774],\n",
      "         [  0.5774,   0.5774,   0.5774],\n",
      "         [ -0.5774,   0.5774,  -0.5774],\n",
      "         [ -0.5774,   0.5774,   0.5774],\n",
      "         [  0.5774,  -0.5774,  -0.5774],\n",
      "         [  0.5774,  -0.5774,   0.5774],\n",
      "         [ -0.5774,  -0.5774,  -0.5774]]], device='cuda:0')\n"
     ]
    }
   ],
   "source": [
    "vertex_pad_list = mesh_batch.verts_padded()\n",
    "print(vertex_pad_list)"
   ]
  },
  {
   "cell_type": "code",
   "execution_count": 12,
   "id": "24b04212-6a47-435b-9019-15395730ea58",
   "metadata": {},
   "outputs": [
    {
     "name": "stdout",
     "output_type": "stream",
     "text": [
      "tensor([[ -0.5000,  -0.5000,   0.5000],\n",
      "        [ -0.5000,  -0.5000,  -0.5000],\n",
      "        [ -0.5000,   0.5000,  -0.5000],\n",
      "        [ -0.5000,   0.5000,   0.5000],\n",
      "        [  0.5000,  -0.5000,   0.5000],\n",
      "        [  0.5000,  -0.5000,  -0.5000],\n",
      "        [  0.5000,   0.5000,  -0.5000],\n",
      "        [  0.5000,   0.5000,   0.5000],\n",
      "        [  0.0000,   0.0000,  78.0000],\n",
      "        [ 45.0000,  45.0000,   0.0000],\n",
      "        [ 45.0000, -45.0000,   0.0000],\n",
      "        [-45.0000, -45.0000,   0.0000],\n",
      "        [-45.0000,  45.0000,   0.0000],\n",
      "        [  0.0000,   0.0000, -78.0000],\n",
      "        [ -0.5774,  -0.5774,   0.5774],\n",
      "        [  0.9342,   0.3568,   0.0000],\n",
      "        [  0.9342,  -0.3568,   0.0000],\n",
      "        [ -0.9342,   0.3568,   0.0000],\n",
      "        [ -0.9342,  -0.3568,   0.0000],\n",
      "        [  0.0000,   0.9342,   0.3568],\n",
      "        [  0.0000,   0.9342,  -0.3568],\n",
      "        [  0.3568,   0.0000,  -0.9342],\n",
      "        [ -0.3568,   0.0000,  -0.9342],\n",
      "        [  0.0000,  -0.9342,  -0.3568],\n",
      "        [  0.0000,  -0.9342,   0.3568],\n",
      "        [  0.3568,   0.0000,   0.9342],\n",
      "        [ -0.3568,   0.0000,   0.9342],\n",
      "        [  0.5774,   0.5774,  -0.5774],\n",
      "        [  0.5774,   0.5774,   0.5774],\n",
      "        [ -0.5774,   0.5774,  -0.5774],\n",
      "        [ -0.5774,   0.5774,   0.5774],\n",
      "        [  0.5774,  -0.5774,  -0.5774],\n",
      "        [  0.5774,  -0.5774,   0.5774],\n",
      "        [ -0.5774,  -0.5774,  -0.5774]], device='cuda:0')\n"
     ]
    }
   ],
   "source": [
    "vertex_pack_list = mesh_batch.verts_packed()\n",
    "print(vertex_pack_list)"
   ]
  },
  {
   "cell_type": "code",
   "execution_count": 14,
   "id": "5291eea0-d73c-4f14-acd9-643517a0f46d",
   "metadata": {},
   "outputs": [
    {
     "name": "stdout",
     "output_type": "stream",
     "text": [
      "num_vertices =  34\n"
     ]
    }
   ],
   "source": [
    "num_vertices = vertex_pack_list.shape[0]\n",
    "print('num_vertices = ', num_vertices)"
   ]
  },
  {
   "cell_type": "markdown",
   "id": "72bb53ba-a646-4596-b1b2-db5acc197b2e",
   "metadata": {},
   "source": [
    "## Начинаем играться:\n",
    "### Зашумленная полигональная сетка"
   ]
  },
  {
   "cell_type": "code",
   "execution_count": 15,
   "id": "11c89c5e-264f-4992-b975-924478f71080",
   "metadata": {},
   "outputs": [],
   "source": [
    "mesh_batch_noisy = mesh_batch.clone()"
   ]
  },
  {
   "cell_type": "code",
   "execution_count": 17,
   "id": "f373cc69-9bdc-4bd0-9ea1-027b460ca060",
   "metadata": {},
   "outputs": [
    {
     "data": {
      "text/plain": [
       "tensor([[3, 4, 5]], device='cuda:0')"
      ]
     },
     "execution_count": 17,
     "metadata": {},
     "output_type": "execute_result"
    }
   ],
   "source": [
    "motion_gt = torch.as_tensor(np.array([3, 4, 5]))\n",
    "motion_gt = motion_gt.unsqueeze(0)\n",
    "motion_gt = motion_gt.to(device)\n",
    "motion_gt"
   ]
  },
  {
   "cell_type": "code",
   "execution_count": 25,
   "id": "764defcd-3dda-465f-a94c-9aaf0d7f90fe",
   "metadata": {},
   "outputs": [
    {
     "data": {
      "text/plain": [
       "tensor([[ 0.0863, -0.3218, -0.4479],\n",
       "        [ 0.1734, -0.5139,  0.6191],\n",
       "        [ 0.2733,  0.0423, -0.2081],\n",
       "        [ 0.3175, -0.1156,  0.1112],\n",
       "        [-0.4360, -0.1677,  0.0459],\n",
       "        [ 0.4467, -0.3208, -0.1138],\n",
       "        [ 0.0592, -0.6112,  0.1541],\n",
       "        [-0.0859,  0.4124, -0.0835],\n",
       "        [ 0.6423,  0.4400,  0.1775],\n",
       "        [ 0.0054,  0.0183,  0.3733],\n",
       "        [-0.0354, -0.1811, -0.1148],\n",
       "        [-0.6248, -0.6400,  0.1365],\n",
       "        [-0.2913, -0.0826, -0.3949],\n",
       "        [ 0.3091, -0.4019,  0.0241],\n",
       "        [ 0.4139,  0.0998, -0.4971],\n",
       "        [ 0.0779,  0.2662, -0.0224],\n",
       "        [ 0.2743,  0.0120,  0.0066],\n",
       "        [ 0.0862,  0.3810, -0.0806],\n",
       "        [-0.1501,  0.0329,  0.4128],\n",
       "        [-0.2539, -0.4359,  0.4368],\n",
       "        [-0.0303, -0.1386, -0.2167],\n",
       "        [-0.1007, -0.1443, -0.0048],\n",
       "        [ 0.6977, -0.4349, -0.0590],\n",
       "        [ 0.0399, -0.1395, -0.2703],\n",
       "        [ 0.3949, -0.0378, -0.4139],\n",
       "        [ 0.3354, -0.0707,  0.1629],\n",
       "        [ 0.1972, -0.1455, -0.3855],\n",
       "        [-0.1399,  0.4698,  0.1656],\n",
       "        [ 0.0553,  0.0135, -0.2698],\n",
       "        [-0.2903,  0.4342, -0.4082],\n",
       "        [ 0.7536, -0.0015, -0.3493],\n",
       "        [ 0.3246,  0.1974,  0.0577],\n",
       "        [ 0.1348,  0.1156, -0.1348],\n",
       "        [-0.0182,  0.0465,  0.2700]], device='cuda:0')"
      ]
     },
     "execution_count": 25,
     "metadata": {},
     "output_type": "execute_result"
    }
   ],
   "source": [
    "noise = (0.1**0.5) * torch.randn(mesh_batch_noisy.verts_packed().shape).to(device)\n",
    "noise"
   ]
  },
  {
   "cell_type": "code",
   "execution_count": null,
   "id": "100ca1a6-118d-4a85-b56c-d5b704013bea",
   "metadata": {},
   "outputs": [],
   "source": [
    "noise = noise + motion_gt\n",
    "mesh_batch_noisy = mesh_batch_noisy.offset_verts(noise).detach()"
   ]
  },
  {
   "cell_type": "code",
   "execution_count": 24,
   "id": "4b015482-7005-4fc8-8dff-a00c059f6b5d",
   "metadata": {},
   "outputs": [
    {
     "data": {
      "text/plain": [
       "tensor([[3.4382, 3.8280, 5.1258],\n",
       "        [2.7602, 4.4960, 4.3463],\n",
       "        [3.2738, 3.5422, 5.2560],\n",
       "        [2.6747, 3.6962, 5.8536],\n",
       "        [2.6593, 3.7895, 5.4114],\n",
       "        [3.5573, 4.4321, 4.8172],\n",
       "        [3.4032, 4.1675, 4.5934],\n",
       "        [2.9137, 4.0046, 5.7879],\n",
       "        [2.3223, 4.1606, 4.7688],\n",
       "        [2.8292, 4.3746, 5.1683],\n",
       "        [3.0244, 3.4879, 4.7195],\n",
       "        [3.2412, 3.9436, 5.2271],\n",
       "        [3.0233, 4.3106, 5.3526],\n",
       "        [3.6241, 4.6980, 4.5773],\n",
       "        [3.3190, 3.9764, 5.0820],\n",
       "        [3.4666, 3.6054, 4.4055],\n",
       "        [2.9890, 3.7453, 4.8814],\n",
       "        [2.7215, 4.1870, 4.9759],\n",
       "        [3.0273, 3.6547, 5.1552],\n",
       "        [2.7510, 3.8020, 5.2616],\n",
       "        [3.0550, 3.4783, 4.9206],\n",
       "        [2.9921, 4.0590, 4.9297],\n",
       "        [3.0638, 3.8605, 4.7613],\n",
       "        [3.7184, 3.7589, 5.4486],\n",
       "        [3.2807, 3.9414, 5.0850],\n",
       "        [2.8512, 3.8381, 4.6644],\n",
       "        [3.0161, 3.9096, 4.9208],\n",
       "        [2.2683, 3.8241, 5.2886],\n",
       "        [3.0539, 3.3267, 5.2415],\n",
       "        [2.8493, 3.8853, 4.8977],\n",
       "        [3.0013, 4.0634, 5.2042],\n",
       "        [3.0890, 4.2036, 5.0481],\n",
       "        [3.2678, 4.0852, 5.3419],\n",
       "        [3.0293, 3.6539, 4.9063]], device='cuda:0')"
      ]
     },
     "execution_count": 24,
     "metadata": {},
     "output_type": "execute_result"
    }
   ],
   "source": [
    "noise"
   ]
  },
  {
   "cell_type": "code",
   "execution_count": 20,
   "id": "a78144f2-38e6-42b6-8d70-e32f64bca5e5",
   "metadata": {},
   "outputs": [],
   "source": [
    "motion_estimate = torch.zeros(motion_gt.shape,\n",
    "                              device=device,\n",
    "                              requires_grad=True)"
   ]
  },
  {
   "cell_type": "code",
   "execution_count": 21,
   "id": "bf440d9d-a791-4921-acc0-8f94cb4f8652",
   "metadata": {},
   "outputs": [],
   "source": [
    "optimizer = torch.optim.SGD([motion_estimate], lr=0.1, momentum=0.9)"
   ]
  },
  {
   "cell_type": "markdown",
   "id": "bd2555cc-d528-4a63-be12-af299f103676",
   "metadata": {},
   "source": [
    "## train loop"
   ]
  },
  {
   "cell_type": "code",
   "execution_count": 26,
   "id": "34113ed0-cf1c-4653-bd5a-781ff4a944a7",
   "metadata": {},
   "outputs": [
    {
     "name": "stdout",
     "output_type": "stream",
     "text": [
      "Epoch: 0\t|\tmotion_estimate: tensor([[3.0551, 4.0074, 5.0642]], device='cuda:0', requires_grad=True)\n",
      "Epoch: 1\t|\tmotion_estimate: tensor([[3.0543, 4.0105, 5.0630]], device='cuda:0', requires_grad=True)\n",
      "Epoch: 2\t|\tmotion_estimate: tensor([[3.0543, 4.0123, 5.0594]], device='cuda:0', requires_grad=True)\n",
      "Epoch: 3\t|\tmotion_estimate: tensor([[3.0540, 4.0132, 5.0554]], device='cuda:0', requires_grad=True)\n",
      "Epoch: 4\t|\tmotion_estimate: tensor([[3.0543, 4.0087, 5.0497]], device='cuda:0', requires_grad=True)\n",
      "Epoch: 5\t|\tmotion_estimate: tensor([[3.0550, 4.0019, 5.0457]], device='cuda:0', requires_grad=True)\n",
      "Epoch: 6\t|\tmotion_estimate: tensor([[3.0551, 3.9955, 5.0410]], device='cuda:0', requires_grad=True)\n",
      "Epoch: 7\t|\tmotion_estimate: tensor([[3.0560, 3.9896, 5.0390]], device='cuda:0', requires_grad=True)\n",
      "Epoch: 8\t|\tmotion_estimate: tensor([[3.0585, 3.9852, 5.0388]], device='cuda:0', requires_grad=True)\n",
      "Epoch: 9\t|\tmotion_estimate: tensor([[3.0598, 3.9827, 5.0388]], device='cuda:0', requires_grad=True)\n",
      "Epoch: 10\t|\tmotion_estimate: tensor([[3.0584, 3.9797, 5.0415]], device='cuda:0', requires_grad=True)\n",
      "Epoch: 11\t|\tmotion_estimate: tensor([[3.0539, 3.9779, 5.0440]], device='cuda:0', requires_grad=True)\n",
      "Epoch: 12\t|\tmotion_estimate: tensor([[3.0520, 3.9790, 5.0449]], device='cuda:0', requires_grad=True)\n",
      "Epoch: 13\t|\tmotion_estimate: tensor([[3.0512, 3.9811, 5.0493]], device='cuda:0', requires_grad=True)\n",
      "Epoch: 14\t|\tmotion_estimate: tensor([[3.0502, 3.9855, 5.0525]], device='cuda:0', requires_grad=True)\n",
      "Epoch: 15\t|\tmotion_estimate: tensor([[3.0503, 3.9912, 5.0568]], device='cuda:0', requires_grad=True)\n",
      "Epoch: 16\t|\tmotion_estimate: tensor([[3.0478, 3.9955, 5.0621]], device='cuda:0', requires_grad=True)\n",
      "Epoch: 17\t|\tmotion_estimate: tensor([[3.0477, 4.0008, 5.0645]], device='cuda:0', requires_grad=True)\n",
      "Epoch: 18\t|\tmotion_estimate: tensor([[3.0502, 4.0073, 5.0625]], device='cuda:0', requires_grad=True)\n",
      "Epoch: 19\t|\tmotion_estimate: tensor([[3.0525, 4.0129, 5.0560]], device='cuda:0', requires_grad=True)\n",
      "Epoch: 20\t|\tmotion_estimate: tensor([[3.0539, 4.0136, 5.0501]], device='cuda:0', requires_grad=True)\n",
      "Epoch: 21\t|\tmotion_estimate: tensor([[3.0550, 4.0108, 5.0461]], device='cuda:0', requires_grad=True)\n",
      "Epoch: 22\t|\tmotion_estimate: tensor([[3.0546, 4.0051, 5.0408]], device='cuda:0', requires_grad=True)\n",
      "Epoch: 23\t|\tmotion_estimate: tensor([[3.0540, 3.9953, 5.0347]], device='cuda:0', requires_grad=True)\n",
      "Epoch: 24\t|\tmotion_estimate: tensor([[3.0521, 3.9873, 5.0302]], device='cuda:0', requires_grad=True)\n",
      "Epoch: 25\t|\tmotion_estimate: tensor([[3.0528, 3.9822, 5.0271]], device='cuda:0', requires_grad=True)\n",
      "Epoch: 26\t|\tmotion_estimate: tensor([[3.0556, 3.9778, 5.0244]], device='cuda:0', requires_grad=True)\n",
      "Epoch: 27\t|\tmotion_estimate: tensor([[3.0558, 3.9746, 5.0235]], device='cuda:0', requires_grad=True)\n",
      "Epoch: 28\t|\tmotion_estimate: tensor([[3.0551, 3.9774, 5.0292]], device='cuda:0', requires_grad=True)\n",
      "Epoch: 29\t|\tmotion_estimate: tensor([[3.0527, 3.9827, 5.0349]], device='cuda:0', requires_grad=True)\n",
      "Epoch: 30\t|\tmotion_estimate: tensor([[3.0518, 3.9917, 5.0374]], device='cuda:0', requires_grad=True)\n",
      "Epoch: 31\t|\tmotion_estimate: tensor([[3.0484, 3.9998, 5.0398]], device='cuda:0', requires_grad=True)\n",
      "Epoch: 32\t|\tmotion_estimate: tensor([[3.0456, 4.0071, 5.0399]], device='cuda:0', requires_grad=True)\n",
      "Epoch: 33\t|\tmotion_estimate: tensor([[3.0435, 4.0118, 5.0397]], device='cuda:0', requires_grad=True)\n",
      "Epoch: 34\t|\tmotion_estimate: tensor([[3.0430, 4.0144, 5.0424]], device='cuda:0', requires_grad=True)\n",
      "Epoch: 35\t|\tmotion_estimate: tensor([[3.0437, 4.0119, 5.0453]], device='cuda:0', requires_grad=True)\n",
      "Epoch: 36\t|\tmotion_estimate: tensor([[3.0459, 4.0085, 5.0485]], device='cuda:0', requires_grad=True)\n",
      "Epoch: 37\t|\tmotion_estimate: tensor([[3.0492, 4.0028, 5.0522]], device='cuda:0', requires_grad=True)\n",
      "Epoch: 38\t|\tmotion_estimate: tensor([[3.0530, 3.9992, 5.0551]], device='cuda:0', requires_grad=True)\n",
      "Epoch: 39\t|\tmotion_estimate: tensor([[3.0565, 3.9951, 5.0578]], device='cuda:0', requires_grad=True)\n",
      "Epoch: 40\t|\tmotion_estimate: tensor([[3.0595, 3.9924, 5.0578]], device='cuda:0', requires_grad=True)\n",
      "Epoch: 41\t|\tmotion_estimate: tensor([[3.0603, 3.9882, 5.0557]], device='cuda:0', requires_grad=True)\n",
      "Epoch: 42\t|\tmotion_estimate: tensor([[3.0585, 3.9854, 5.0526]], device='cuda:0', requires_grad=True)\n",
      "Epoch: 43\t|\tmotion_estimate: tensor([[3.0549, 3.9840, 5.0484]], device='cuda:0', requires_grad=True)\n",
      "Epoch: 44\t|\tmotion_estimate: tensor([[3.0501, 3.9811, 5.0467]], device='cuda:0', requires_grad=True)\n",
      "Epoch: 45\t|\tmotion_estimate: tensor([[3.0447, 3.9811, 5.0441]], device='cuda:0', requires_grad=True)\n",
      "Epoch: 46\t|\tmotion_estimate: tensor([[3.0412, 3.9825, 5.0465]], device='cuda:0', requires_grad=True)\n",
      "Epoch: 47\t|\tmotion_estimate: tensor([[3.0387, 3.9830, 5.0465]], device='cuda:0', requires_grad=True)\n",
      "Epoch: 48\t|\tmotion_estimate: tensor([[3.0375, 3.9853, 5.0486]], device='cuda:0', requires_grad=True)\n",
      "Epoch: 49\t|\tmotion_estimate: tensor([[3.0381, 3.9898, 5.0524]], device='cuda:0', requires_grad=True)\n",
      "Epoch: 50\t|\tmotion_estimate: tensor([[3.0395, 3.9948, 5.0549]], device='cuda:0', requires_grad=True)\n",
      "Epoch: 51\t|\tmotion_estimate: tensor([[3.0415, 3.9995, 5.0558]], device='cuda:0', requires_grad=True)\n",
      "Epoch: 52\t|\tmotion_estimate: tensor([[3.0439, 4.0025, 5.0544]], device='cuda:0', requires_grad=True)\n",
      "Epoch: 53\t|\tmotion_estimate: tensor([[3.0472, 4.0047, 5.0508]], device='cuda:0', requires_grad=True)\n",
      "Epoch: 54\t|\tmotion_estimate: tensor([[3.0506, 4.0047, 5.0493]], device='cuda:0', requires_grad=True)\n",
      "Epoch: 55\t|\tmotion_estimate: tensor([[3.0547, 4.0024, 5.0474]], device='cuda:0', requires_grad=True)\n",
      "Epoch: 56\t|\tmotion_estimate: tensor([[3.0593, 3.9990, 5.0445]], device='cuda:0', requires_grad=True)\n",
      "Epoch: 57\t|\tmotion_estimate: tensor([[3.0643, 3.9957, 5.0424]], device='cuda:0', requires_grad=True)\n",
      "Epoch: 58\t|\tmotion_estimate: tensor([[3.0671, 3.9920, 5.0418]], device='cuda:0', requires_grad=True)\n",
      "Epoch: 59\t|\tmotion_estimate: tensor([[3.0679, 3.9864, 5.0434]], device='cuda:0', requires_grad=True)\n",
      "Epoch: 60\t|\tmotion_estimate: tensor([[3.0662, 3.9797, 5.0461]], device='cuda:0', requires_grad=True)\n",
      "Epoch: 61\t|\tmotion_estimate: tensor([[3.0618, 3.9765, 5.0482]], device='cuda:0', requires_grad=True)\n",
      "Epoch: 62\t|\tmotion_estimate: tensor([[3.0561, 3.9755, 5.0495]], device='cuda:0', requires_grad=True)\n",
      "Epoch: 63\t|\tmotion_estimate: tensor([[3.0490, 3.9772, 5.0509]], device='cuda:0', requires_grad=True)\n",
      "Epoch: 64\t|\tmotion_estimate: tensor([[3.0428, 3.9795, 5.0523]], device='cuda:0', requires_grad=True)\n",
      "Epoch: 65\t|\tmotion_estimate: tensor([[3.0388, 3.9818, 5.0527]], device='cuda:0', requires_grad=True)\n",
      "Epoch: 66\t|\tmotion_estimate: tensor([[3.0375, 3.9854, 5.0558]], device='cuda:0', requires_grad=True)\n",
      "Epoch: 67\t|\tmotion_estimate: tensor([[3.0402, 3.9886, 5.0611]], device='cuda:0', requires_grad=True)\n",
      "Epoch: 68\t|\tmotion_estimate: tensor([[3.0420, 3.9930, 5.0677]], device='cuda:0', requires_grad=True)\n",
      "Epoch: 69\t|\tmotion_estimate: tensor([[3.0455, 3.9968, 5.0722]], device='cuda:0', requires_grad=True)\n",
      "Epoch: 70\t|\tmotion_estimate: tensor([[3.0496, 3.9995, 5.0764]], device='cuda:0', requires_grad=True)\n",
      "Epoch: 71\t|\tmotion_estimate: tensor([[3.0527, 4.0043, 5.0774]], device='cuda:0', requires_grad=True)\n",
      "Epoch: 72\t|\tmotion_estimate: tensor([[3.0547, 4.0064, 5.0764]], device='cuda:0', requires_grad=True)\n",
      "Epoch: 73\t|\tmotion_estimate: tensor([[3.0569, 4.0070, 5.0717]], device='cuda:0', requires_grad=True)\n",
      "Epoch: 74\t|\tmotion_estimate: tensor([[3.0603, 4.0070, 5.0679]], device='cuda:0', requires_grad=True)\n",
      "Epoch: 75\t|\tmotion_estimate: tensor([[3.0645, 4.0044, 5.0628]], device='cuda:0', requires_grad=True)\n",
      "Epoch: 76\t|\tmotion_estimate: tensor([[3.0669, 4.0010, 5.0571]], device='cuda:0', requires_grad=True)\n",
      "Epoch: 77\t|\tmotion_estimate: tensor([[3.0653, 3.9997, 5.0485]], device='cuda:0', requires_grad=True)\n",
      "Epoch: 78\t|\tmotion_estimate: tensor([[3.0631, 3.9959, 5.0412]], device='cuda:0', requires_grad=True)\n",
      "Epoch: 79\t|\tmotion_estimate: tensor([[3.0583, 3.9918, 5.0358]], device='cuda:0', requires_grad=True)\n",
      "Epoch: 80\t|\tmotion_estimate: tensor([[3.0516, 3.9896, 5.0312]], device='cuda:0', requires_grad=True)\n",
      "Epoch: 81\t|\tmotion_estimate: tensor([[3.0469, 3.9891, 5.0281]], device='cuda:0', requires_grad=True)\n",
      "Epoch: 82\t|\tmotion_estimate: tensor([[3.0452, 3.9885, 5.0270]], device='cuda:0', requires_grad=True)\n",
      "Epoch: 83\t|\tmotion_estimate: tensor([[3.0434, 3.9885, 5.0279]], device='cuda:0', requires_grad=True)\n",
      "Epoch: 84\t|\tmotion_estimate: tensor([[3.0415, 3.9911, 5.0310]], device='cuda:0', requires_grad=True)\n",
      "Epoch: 85\t|\tmotion_estimate: tensor([[3.0403, 3.9957, 5.0339]], device='cuda:0', requires_grad=True)\n",
      "Epoch: 86\t|\tmotion_estimate: tensor([[3.0419, 4.0007, 5.0406]], device='cuda:0', requires_grad=True)\n",
      "Epoch: 87\t|\tmotion_estimate: tensor([[3.0448, 4.0069, 5.0467]], device='cuda:0', requires_grad=True)\n",
      "Epoch: 88\t|\tmotion_estimate: tensor([[3.0474, 4.0098, 5.0483]], device='cuda:0', requires_grad=True)\n",
      "Epoch: 89\t|\tmotion_estimate: tensor([[3.0500, 4.0103, 5.0496]], device='cuda:0', requires_grad=True)\n",
      "Epoch: 90\t|\tmotion_estimate: tensor([[3.0520, 4.0105, 5.0515]], device='cuda:0', requires_grad=True)\n",
      "Epoch: 91\t|\tmotion_estimate: tensor([[3.0543, 4.0074, 5.0540]], device='cuda:0', requires_grad=True)\n",
      "Epoch: 92\t|\tmotion_estimate: tensor([[3.0562, 4.0039, 5.0566]], device='cuda:0', requires_grad=True)\n",
      "Epoch: 93\t|\tmotion_estimate: tensor([[3.0555, 3.9953, 5.0619]], device='cuda:0', requires_grad=True)\n",
      "Epoch: 94\t|\tmotion_estimate: tensor([[3.0553, 3.9851, 5.0643]], device='cuda:0', requires_grad=True)\n",
      "Epoch: 95\t|\tmotion_estimate: tensor([[3.0556, 3.9776, 5.0656]], device='cuda:0', requires_grad=True)\n",
      "Epoch: 96\t|\tmotion_estimate: tensor([[3.0552, 3.9742, 5.0653]], device='cuda:0', requires_grad=True)\n",
      "Epoch: 97\t|\tmotion_estimate: tensor([[3.0500, 3.9733, 5.0626]], device='cuda:0', requires_grad=True)\n",
      "Epoch: 98\t|\tmotion_estimate: tensor([[3.0473, 3.9720, 5.0580]], device='cuda:0', requires_grad=True)\n",
      "Epoch: 99\t|\tmotion_estimate: tensor([[3.0459, 3.9734, 5.0521]], device='cuda:0', requires_grad=True)\n",
      "Epoch: 100\t|\tmotion_estimate: tensor([[3.0470, 3.9757, 5.0476]], device='cuda:0', requires_grad=True)\n",
      "Epoch: 101\t|\tmotion_estimate: tensor([[3.0502, 3.9808, 5.0432]], device='cuda:0', requires_grad=True)\n",
      "Epoch: 102\t|\tmotion_estimate: tensor([[3.0542, 3.9886, 5.0390]], device='cuda:0', requires_grad=True)\n",
      "Epoch: 103\t|\tmotion_estimate: tensor([[3.0570, 3.9957, 5.0401]], device='cuda:0', requires_grad=True)\n",
      "Epoch: 104\t|\tmotion_estimate: tensor([[3.0575, 3.9981, 5.0447]], device='cuda:0', requires_grad=True)\n",
      "Epoch: 105\t|\tmotion_estimate: tensor([[3.0594, 4.0001, 5.0479]], device='cuda:0', requires_grad=True)\n",
      "Epoch: 106\t|\tmotion_estimate: tensor([[3.0588, 4.0011, 5.0513]], device='cuda:0', requires_grad=True)\n",
      "Epoch: 107\t|\tmotion_estimate: tensor([[3.0561, 4.0010, 5.0544]], device='cuda:0', requires_grad=True)\n",
      "Epoch: 108\t|\tmotion_estimate: tensor([[3.0542, 3.9999, 5.0571]], device='cuda:0', requires_grad=True)\n",
      "Epoch: 109\t|\tmotion_estimate: tensor([[3.0502, 3.9968, 5.0575]], device='cuda:0', requires_grad=True)\n",
      "Epoch: 110\t|\tmotion_estimate: tensor([[3.0493, 3.9944, 5.0547]], device='cuda:0', requires_grad=True)\n",
      "Epoch: 111\t|\tmotion_estimate: tensor([[3.0503, 3.9886, 5.0518]], device='cuda:0', requires_grad=True)\n",
      "Epoch: 112\t|\tmotion_estimate: tensor([[3.0527, 3.9807, 5.0502]], device='cuda:0', requires_grad=True)\n",
      "Epoch: 113\t|\tmotion_estimate: tensor([[3.0550, 3.9744, 5.0488]], device='cuda:0', requires_grad=True)\n",
      "Epoch: 114\t|\tmotion_estimate: tensor([[3.0572, 3.9726, 5.0458]], device='cuda:0', requires_grad=True)\n",
      "Epoch: 115\t|\tmotion_estimate: tensor([[3.0573, 3.9722, 5.0484]], device='cuda:0', requires_grad=True)\n",
      "Epoch: 116\t|\tmotion_estimate: tensor([[3.0574, 3.9732, 5.0516]], device='cuda:0', requires_grad=True)\n",
      "Epoch: 117\t|\tmotion_estimate: tensor([[3.0570, 3.9766, 5.0543]], device='cuda:0', requires_grad=True)\n",
      "Epoch: 118\t|\tmotion_estimate: tensor([[3.0575, 3.9831, 5.0587]], device='cuda:0', requires_grad=True)\n",
      "Epoch: 119\t|\tmotion_estimate: tensor([[3.0591, 3.9895, 5.0607]], device='cuda:0', requires_grad=True)\n",
      "Epoch: 120\t|\tmotion_estimate: tensor([[3.0597, 3.9960, 5.0611]], device='cuda:0', requires_grad=True)\n",
      "Epoch: 121\t|\tmotion_estimate: tensor([[3.0574, 4.0023, 5.0599]], device='cuda:0', requires_grad=True)\n",
      "Epoch: 122\t|\tmotion_estimate: tensor([[3.0545, 4.0088, 5.0579]], device='cuda:0', requires_grad=True)\n",
      "Epoch: 123\t|\tmotion_estimate: tensor([[3.0507, 4.0130, 5.0553]], device='cuda:0', requires_grad=True)\n",
      "Epoch: 124\t|\tmotion_estimate: tensor([[3.0468, 4.0140, 5.0529]], device='cuda:0', requires_grad=True)\n",
      "Epoch: 125\t|\tmotion_estimate: tensor([[3.0431, 4.0108, 5.0489]], device='cuda:0', requires_grad=True)\n",
      "Epoch: 126\t|\tmotion_estimate: tensor([[3.0409, 4.0056, 5.0435]], device='cuda:0', requires_grad=True)\n",
      "Epoch: 127\t|\tmotion_estimate: tensor([[3.0403, 3.9992, 5.0404]], device='cuda:0', requires_grad=True)\n",
      "Epoch: 128\t|\tmotion_estimate: tensor([[3.0413, 3.9914, 5.0381]], device='cuda:0', requires_grad=True)\n",
      "Epoch: 129\t|\tmotion_estimate: tensor([[3.0451, 3.9868, 5.0372]], device='cuda:0', requires_grad=True)\n",
      "Epoch: 130\t|\tmotion_estimate: tensor([[3.0478, 3.9813, 5.0396]], device='cuda:0', requires_grad=True)\n",
      "Epoch: 131\t|\tmotion_estimate: tensor([[3.0514, 3.9799, 5.0426]], device='cuda:0', requires_grad=True)\n",
      "Epoch: 132\t|\tmotion_estimate: tensor([[3.0548, 3.9805, 5.0490]], device='cuda:0', requires_grad=True)\n",
      "Epoch: 133\t|\tmotion_estimate: tensor([[3.0606, 3.9810, 5.0550]], device='cuda:0', requires_grad=True)\n",
      "Epoch: 134\t|\tmotion_estimate: tensor([[3.0635, 3.9847, 5.0627]], device='cuda:0', requires_grad=True)\n",
      "Epoch: 135\t|\tmotion_estimate: tensor([[3.0653, 3.9883, 5.0647]], device='cuda:0', requires_grad=True)\n",
      "Epoch: 136\t|\tmotion_estimate: tensor([[3.0672, 3.9918, 5.0651]], device='cuda:0', requires_grad=True)\n",
      "Epoch: 137\t|\tmotion_estimate: tensor([[3.0668, 3.9925, 5.0636]], device='cuda:0', requires_grad=True)\n",
      "Epoch: 138\t|\tmotion_estimate: tensor([[3.0649, 3.9914, 5.0627]], device='cuda:0', requires_grad=True)\n",
      "Epoch: 139\t|\tmotion_estimate: tensor([[3.0603, 3.9905, 5.0611]], device='cuda:0', requires_grad=True)\n",
      "Epoch: 140\t|\tmotion_estimate: tensor([[3.0554, 3.9899, 5.0592]], device='cuda:0', requires_grad=True)\n",
      "Epoch: 141\t|\tmotion_estimate: tensor([[3.0494, 3.9886, 5.0552]], device='cuda:0', requires_grad=True)\n",
      "Epoch: 142\t|\tmotion_estimate: tensor([[3.0467, 3.9893, 5.0521]], device='cuda:0', requires_grad=True)\n",
      "Epoch: 143\t|\tmotion_estimate: tensor([[3.0466, 3.9905, 5.0460]], device='cuda:0', requires_grad=True)\n",
      "Epoch: 144\t|\tmotion_estimate: tensor([[3.0466, 3.9933, 5.0417]], device='cuda:0', requires_grad=True)\n",
      "Epoch: 145\t|\tmotion_estimate: tensor([[3.0458, 3.9964, 5.0379]], device='cuda:0', requires_grad=True)\n",
      "Epoch: 146\t|\tmotion_estimate: tensor([[3.0457, 3.9998, 5.0343]], device='cuda:0', requires_grad=True)\n",
      "Epoch: 147\t|\tmotion_estimate: tensor([[3.0470, 4.0025, 5.0331]], device='cuda:0', requires_grad=True)\n",
      "Epoch: 148\t|\tmotion_estimate: tensor([[3.0473, 4.0034, 5.0324]], device='cuda:0', requires_grad=True)\n",
      "Epoch: 149\t|\tmotion_estimate: tensor([[3.0475, 4.0031, 5.0335]], device='cuda:0', requires_grad=True)\n",
      "Epoch: 150\t|\tmotion_estimate: tensor([[3.0470, 4.0014, 5.0345]], device='cuda:0', requires_grad=True)\n",
      "Epoch: 151\t|\tmotion_estimate: tensor([[3.0456, 4.0004, 5.0365]], device='cuda:0', requires_grad=True)\n",
      "Epoch: 152\t|\tmotion_estimate: tensor([[3.0447, 4.0008, 5.0395]], device='cuda:0', requires_grad=True)\n",
      "Epoch: 153\t|\tmotion_estimate: tensor([[3.0446, 4.0003, 5.0411]], device='cuda:0', requires_grad=True)\n",
      "Epoch: 154\t|\tmotion_estimate: tensor([[3.0451, 3.9986, 5.0441]], device='cuda:0', requires_grad=True)\n",
      "Epoch: 155\t|\tmotion_estimate: tensor([[3.0459, 3.9966, 5.0473]], device='cuda:0', requires_grad=True)\n",
      "Epoch: 156\t|\tmotion_estimate: tensor([[3.0471, 3.9947, 5.0501]], device='cuda:0', requires_grad=True)\n",
      "Epoch: 157\t|\tmotion_estimate: tensor([[3.0481, 3.9920, 5.0512]], device='cuda:0', requires_grad=True)\n",
      "Epoch: 158\t|\tmotion_estimate: tensor([[3.0494, 3.9899, 5.0531]], device='cuda:0', requires_grad=True)\n",
      "Epoch: 159\t|\tmotion_estimate: tensor([[3.0501, 3.9889, 5.0551]], device='cuda:0', requires_grad=True)\n",
      "Epoch: 160\t|\tmotion_estimate: tensor([[3.0518, 3.9886, 5.0566]], device='cuda:0', requires_grad=True)\n",
      "Epoch: 161\t|\tmotion_estimate: tensor([[3.0547, 3.9880, 5.0568]], device='cuda:0', requires_grad=True)\n",
      "Epoch: 162\t|\tmotion_estimate: tensor([[3.0585, 3.9868, 5.0570]], device='cuda:0', requires_grad=True)\n",
      "Epoch: 163\t|\tmotion_estimate: tensor([[3.0619, 3.9879, 5.0593]], device='cuda:0', requires_grad=True)\n",
      "Epoch: 164\t|\tmotion_estimate: tensor([[3.0628, 3.9901, 5.0573]], device='cuda:0', requires_grad=True)\n",
      "Epoch: 165\t|\tmotion_estimate: tensor([[3.0641, 3.9920, 5.0564]], device='cuda:0', requires_grad=True)\n",
      "Epoch: 166\t|\tmotion_estimate: tensor([[3.0637, 3.9927, 5.0546]], device='cuda:0', requires_grad=True)\n",
      "Epoch: 167\t|\tmotion_estimate: tensor([[3.0620, 3.9921, 5.0543]], device='cuda:0', requires_grad=True)\n",
      "Epoch: 168\t|\tmotion_estimate: tensor([[3.0599, 3.9902, 5.0550]], device='cuda:0', requires_grad=True)\n",
      "Epoch: 169\t|\tmotion_estimate: tensor([[3.0554, 3.9876, 5.0526]], device='cuda:0', requires_grad=True)\n",
      "Epoch: 170\t|\tmotion_estimate: tensor([[3.0518, 3.9855, 5.0510]], device='cuda:0', requires_grad=True)\n",
      "Epoch: 171\t|\tmotion_estimate: tensor([[3.0473, 3.9843, 5.0469]], device='cuda:0', requires_grad=True)\n",
      "Epoch: 172\t|\tmotion_estimate: tensor([[3.0448, 3.9837, 5.0426]], device='cuda:0', requires_grad=True)\n",
      "Epoch: 173\t|\tmotion_estimate: tensor([[3.0446, 3.9842, 5.0401]], device='cuda:0', requires_grad=True)\n",
      "Epoch: 174\t|\tmotion_estimate: tensor([[3.0469, 3.9826, 5.0399]], device='cuda:0', requires_grad=True)\n",
      "Epoch: 175\t|\tmotion_estimate: tensor([[3.0484, 3.9825, 5.0405]], device='cuda:0', requires_grad=True)\n",
      "Epoch: 176\t|\tmotion_estimate: tensor([[3.0510, 3.9822, 5.0413]], device='cuda:0', requires_grad=True)\n",
      "Epoch: 177\t|\tmotion_estimate: tensor([[3.0521, 3.9805, 5.0404]], device='cuda:0', requires_grad=True)\n",
      "Epoch: 178\t|\tmotion_estimate: tensor([[3.0500, 3.9820, 5.0422]], device='cuda:0', requires_grad=True)\n",
      "Epoch: 179\t|\tmotion_estimate: tensor([[3.0495, 3.9855, 5.0467]], device='cuda:0', requires_grad=True)\n",
      "Epoch: 180\t|\tmotion_estimate: tensor([[3.0475, 3.9912, 5.0508]], device='cuda:0', requires_grad=True)\n",
      "Epoch: 181\t|\tmotion_estimate: tensor([[3.0468, 3.9956, 5.0564]], device='cuda:0', requires_grad=True)\n",
      "Epoch: 182\t|\tmotion_estimate: tensor([[3.0479, 4.0003, 5.0629]], device='cuda:0', requires_grad=True)\n",
      "Epoch: 183\t|\tmotion_estimate: tensor([[3.0494, 4.0037, 5.0662]], device='cuda:0', requires_grad=True)\n",
      "Epoch: 184\t|\tmotion_estimate: tensor([[3.0525, 4.0086, 5.0669]], device='cuda:0', requires_grad=True)\n",
      "Epoch: 185\t|\tmotion_estimate: tensor([[3.0526, 4.0116, 5.0670]], device='cuda:0', requires_grad=True)\n",
      "Epoch: 186\t|\tmotion_estimate: tensor([[3.0539, 4.0123, 5.0661]], device='cuda:0', requires_grad=True)\n",
      "Epoch: 187\t|\tmotion_estimate: tensor([[3.0538, 4.0130, 5.0644]], device='cuda:0', requires_grad=True)\n",
      "Epoch: 188\t|\tmotion_estimate: tensor([[3.0537, 4.0111, 5.0621]], device='cuda:0', requires_grad=True)\n",
      "Epoch: 189\t|\tmotion_estimate: tensor([[3.0537, 4.0074, 5.0564]], device='cuda:0', requires_grad=True)\n",
      "Epoch: 190\t|\tmotion_estimate: tensor([[3.0551, 4.0032, 5.0507]], device='cuda:0', requires_grad=True)\n",
      "Epoch: 191\t|\tmotion_estimate: tensor([[3.0587, 3.9980, 5.0441]], device='cuda:0', requires_grad=True)\n",
      "Epoch: 192\t|\tmotion_estimate: tensor([[3.0600, 3.9894, 5.0395]], device='cuda:0', requires_grad=True)\n",
      "Epoch: 193\t|\tmotion_estimate: tensor([[3.0590, 3.9832, 5.0366]], device='cuda:0', requires_grad=True)\n",
      "Epoch: 194\t|\tmotion_estimate: tensor([[3.0545, 3.9812, 5.0334]], device='cuda:0', requires_grad=True)\n",
      "Epoch: 195\t|\tmotion_estimate: tensor([[3.0498, 3.9799, 5.0316]], device='cuda:0', requires_grad=True)\n",
      "Epoch: 196\t|\tmotion_estimate: tensor([[3.0446, 3.9799, 5.0311]], device='cuda:0', requires_grad=True)\n",
      "Epoch: 197\t|\tmotion_estimate: tensor([[3.0404, 3.9821, 5.0334]], device='cuda:0', requires_grad=True)\n",
      "Epoch: 198\t|\tmotion_estimate: tensor([[3.0371, 3.9868, 5.0371]], device='cuda:0', requires_grad=True)\n",
      "Epoch: 199\t|\tmotion_estimate: tensor([[3.0356, 3.9906, 5.0443]], device='cuda:0', requires_grad=True)\n"
     ]
    }
   ],
   "source": [
    "epochs = 200\n",
    "for epoch in range(epochs):\n",
    "    # do the forward pass\n",
    "    current_mesh_batch = mesh_batch.offset_verts(motion_estimate.repeat(num_vertices, 1)) # сдвигаем точки подопытного меша на motion_estimate\n",
    "    sample_trg = sample_points_from_meshes(current_mesh_batch, 5000)                      # в то же время точки исходного меша сдвинуты на motion_gt + noise\n",
    "    sample_src = sample_points_from_meshes(mesh_batch_noisy, 5000)\n",
    "    \n",
    "    # calculate the loss\n",
    "    loss, _ = chamfer_distance(sample_trg, sample_src)\n",
    "    \n",
    "    # optimizer zero grad\n",
    "    optimizer.zero_grad()\n",
    "    \n",
    "    # loss backward\n",
    "    loss.backward()\n",
    "    \n",
    "    # optimizer step\n",
    "    optimizer.step()\n",
    "\n",
    "    print(f'Epoch: {epoch}\\t|\\tmotion_estimate: {motion_estimate}')"
   ]
  },
  {
   "cell_type": "code",
   "execution_count": 41,
   "id": "d4e83c52-5d70-4a8e-8b2a-57ef80d9f9fa",
   "metadata": {},
   "outputs": [],
   "source": [
    "new_mesh = mesh_batch.offset_verts(motion_estimate.repeat(num_vertices, 1))[2]\n",
    "new_verts, new_faces = new_mesh.get_mesh_verts_faces(0)\n",
    "save_obj(data_path / 'mesh_deformed.obj', new_verts, new_faces)"
   ]
  },
  {
   "cell_type": "code",
   "execution_count": 42,
   "id": "3add2e10-cd8e-4829-8710-bdbebe3ce6fb",
   "metadata": {},
   "outputs": [
    {
     "name": "stderr",
     "output_type": "stream",
     "text": [
      "error: XDG_RUNTIME_DIR not set in the environment.\n"
     ]
    }
   ],
   "source": [
    "# посмотрим что получилось\n",
    "mesh = open3d.io.read_triangle_mesh(data_path / 'mesh_deformed.obj')\n",
    "open3d.visualization.draw_geometries([mesh],\n",
    "                                     mesh_show_wireframe=True,\n",
    "                                     mesh_show_back_face=True)"
   ]
  },
  {
   "cell_type": "code",
   "execution_count": null,
   "id": "b74f800c-995c-4ac0-b639-7fd9a86932b6",
   "metadata": {},
   "outputs": [],
   "source": []
  }
 ],
 "metadata": {
  "kernelspec": {
   "display_name": "Python 3 (ipykernel)",
   "language": "python",
   "name": "python3"
  },
  "language_info": {
   "codemirror_mode": {
    "name": "ipython",
    "version": 3
   },
   "file_extension": ".py",
   "mimetype": "text/x-python",
   "name": "python",
   "nbconvert_exporter": "python",
   "pygments_lexer": "ipython3",
   "version": "3.9.21"
  }
 },
 "nbformat": 4,
 "nbformat_minor": 5
}
