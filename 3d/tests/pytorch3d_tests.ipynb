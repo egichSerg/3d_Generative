{
 "cells": [
  {
   "cell_type": "markdown",
   "id": "4fe387ba-8f2f-49c4-ab7c-c67860f19663",
   "metadata": {},
   "source": [
    "# This is an initial test of Pytorch3D"
   ]
  },
  {
   "cell_type": "markdown",
   "id": "242f82e4-2861-47b7-86cb-62172e364ac4",
   "metadata": {},
   "source": [
    "## PLY"
   ]
  },
  {
   "cell_type": "markdown",
   "id": "3749dac8-4f96-469b-a5ef-ae4a70fc31b8",
   "metadata": {},
   "source": [
    "### Не работает load_ply"
   ]
  },
  {
   "cell_type": "code",
   "execution_count": 1,
   "id": "f52bccb1-7e9d-4c9e-816b-11a944172527",
   "metadata": {},
   "outputs": [
    {
     "ename": "ImportError",
     "evalue": "cannot import name 'load_ply' from 'pytorch3d' (/root/anaconda3/envs/pytorch3d/lib/python3.9/site-packages/pytorch3d/__init__.py)",
     "output_type": "error",
     "traceback": [
      "\u001b[0;31m---------------------------------------------------------------------------\u001b[0m",
      "\u001b[0;31mImportError\u001b[0m                               Traceback (most recent call last)",
      "Cell \u001b[0;32mIn[1], line 1\u001b[0m\n\u001b[0;32m----> 1\u001b[0m \u001b[38;5;28;01mfrom\u001b[39;00m \u001b[38;5;21;01mpytorch3d\u001b[39;00m \u001b[38;5;28;01mimport\u001b[39;00m load_ply\n\u001b[1;32m      2\u001b[0m \u001b[38;5;28mprint\u001b[39m(\u001b[38;5;124m'\u001b[39m\u001b[38;5;124mЗагрузка cube.ply с помощью PyTorch3D\u001b[39m\u001b[38;5;124m'\u001b[39m)\n\u001b[1;32m      3\u001b[0m vertices, faces \u001b[38;5;241m=\u001b[39m load_ply(mesh_file)\n",
      "\u001b[0;31mImportError\u001b[0m: cannot import name 'load_ply' from 'pytorch3d' (/root/anaconda3/envs/pytorch3d/lib/python3.9/site-packages/pytorch3d/__init__.py)"
     ]
    }
   ],
   "source": [
    "from pytorch3d import load_ply\n",
    "\n",
    "mesh_file = 'cube.ply'\n",
    "\n",
    "print('Загрузка cube.ply с помощью PyTorch3D')\n",
    "vertices, faces = load_ply(mesh_file)\n",
    "print('Тип vertices = ', type(vertices))\n",
    "print('Тип faces = ', type(faces))\n",
    "print('vertices = ', vertices)\n",
    "print('faces = ', faces)"
   ]
  },
  {
   "cell_type": "markdown",
   "id": "15ee5169-99fe-4695-861e-9ab7a8f6e66c",
   "metadata": {},
   "source": [
    "### Open3D работает"
   ]
  },
  {
   "cell_type": "code",
   "execution_count": 2,
   "id": "1769355e-b8d7-4a60-b7e9-0b6912549f6f",
   "metadata": {},
   "outputs": [
    {
     "name": "stdout",
     "output_type": "stream",
     "text": [
      "Визуализация полигональной сетки с помощью Open3D\n"
     ]
    },
    {
     "name": "stderr",
     "output_type": "stream",
     "text": [
      "error: XDG_RUNTIME_DIR not set in the environment.\n"
     ]
    }
   ],
   "source": [
    "import open3d\n",
    "\n",
    "mesh_file = 'deform1.ply'\n",
    "print('Визуализация полигональной сетки с помощью Open3D')\n",
    "mesh = open3d.io.read_triangle_mesh(mesh_file)\n",
    "open3d.visualization.draw_geometries([mesh],\n",
    "mesh_show_wireframe = True,\n",
    "mesh_show_back_face = True)"
   ]
  },
  {
   "cell_type": "markdown",
   "id": "f50081c8-bb67-4182-abe4-bf180e46c7e3",
   "metadata": {},
   "source": [
    "## OBJ"
   ]
  },
  {
   "cell_type": "code",
   "execution_count": 10,
   "id": "6c524aa3-2a3f-4a0a-a7ce-94b0a2a2ca26",
   "metadata": {},
   "outputs": [
    {
     "name": "stdout",
     "output_type": "stream",
     "text": [
      "  % Total    % Received % Xferd  Average Speed   Time    Time     Time  Current\n",
      "                                 Dload  Upload   Total   Spent    Left  Speed\n",
      "100   346  100   346    0     0    625      0 --:--:-- --:--:-- --:--:--   625\n",
      "  % Total    % Received % Xferd  Average Speed   Time    Time     Time  Current\n",
      "                                 Dload  Upload   Total   Spent    Left  Speed\n",
      "100    83  100    83    0     0    187      0 --:--:-- --:--:-- --:--:--   187\n"
     ]
    }
   ],
   "source": [
    "!curl https://raw.githubusercontent.com/PacktPublishing/3D-Deep-Learning-with-Python/refs/heads/main/chap1/obj_io/cube.obj -o cube.obj\n",
    "!curl https://raw.githubusercontent.com/PacktPublishing/3D-Deep-Learning-with-Python/refs/heads/main/chap1/obj_io/cube.mtl -o cube.mtl"
   ]
  },
  {
   "cell_type": "code",
   "execution_count": 15,
   "id": "c4f12d52-ecb9-4939-ae23-b13849f168f3",
   "metadata": {},
   "outputs": [
    {
     "name": "stdout",
     "output_type": "stream",
     "text": [
      "  % Total    % Received % Xferd  Average Speed   Time    Time     Time  Current\n",
      "                                 Dload  Upload   Total   Spent    Left  Speed\n",
      "100  1127  100  1127    0     0   2165      0 --:--:-- --:--:-- --:--:--  2163\n",
      "  % Total    % Received % Xferd  Average Speed   Time    Time     Time  Current\n",
      "                                 Dload  Upload   Total   Spent    Left  Speed\n",
      "100   149  100   149    0     0    470      0 --:--:-- --:--:-- --:--:--   471\n"
     ]
    }
   ],
   "source": [
    "!curl https://raw.githubusercontent.com/PacktPublishing/3D-Deep-Learning-with-Python/refs/heads/main/chap1/obj_io/cube_texture.obj -o cube_texture.obj\n",
    "!curl https://raw.githubusercontent.com/PacktPublishing/3D-Deep-Learning-with-Python/refs/heads/main/chap1/obj_io/cube_texture.mtl -o cube_texture.mtl"
   ]
  },
  {
   "cell_type": "code",
   "execution_count": 1,
   "id": "4f62c9fd-535a-4a37-b9a9-704704e371fe",
   "metadata": {},
   "outputs": [
    {
     "name": "stdout",
     "output_type": "stream",
     "text": [
      "Jupyter environment detected. Enabling Open3D WebVisualizer.\n",
      "[Open3D INFO] WebRTC GUI backend enabled.\n",
      "[Open3D INFO] WebRTCWindowSystem: HTTP handshake server disabled.\n",
      "Визуализация полигональной сетки с помощью Open3D\n",
      "Загрузка того же файла с помощью PyTorch3D\n",
      "Тип vertices =  <class 'torch.Tensor'>\n",
      "Type faces =  <class 'pytorch3d.io.obj_io.Faces'>\n",
      "Тип aux =  <class 'pytorch3d.io.obj_io.Properties'>\n",
      "vertices =  tensor([[ 0.3488, -0.3350, -0.0832],\n",
      "        [ 0.3131, -0.3991,  0.8812],\n",
      "        [ 0.2668,  0.1816,  0.1227],\n",
      "        ...,\n",
      "        [-0.0132, -0.0889,  1.0422],\n",
      "        [-0.0137, -0.0943,  1.0340],\n",
      "        [-0.0137, -0.0796,  1.0469]])\n",
      "faces =  Faces(verts_idx=tensor([[ 738,  734,  735],\n",
      "        [ 188,  735,  734],\n",
      "        [ 191,  737,  736],\n",
      "        ...,\n",
      "        [1855,  107, 2929],\n",
      "        [2927, 2929,  733],\n",
      "        [2923,  733, 2929]]), normals_idx=tensor([[-1, -1, -1],\n",
      "        [-1, -1, -1],\n",
      "        [-1, -1, -1],\n",
      "        ...,\n",
      "        [-1, -1, -1],\n",
      "        [-1, -1, -1],\n",
      "        [-1, -1, -1]]), textures_idx=tensor([[   0,    1,    2],\n",
      "        [   3,    2,    1],\n",
      "        [   4,    5,    6],\n",
      "        ...,\n",
      "        [2777, 3221, 2776],\n",
      "        [2773, 2776, 3224],\n",
      "        [2769, 3224, 2776]]), materials_idx=tensor([0, 0, 0,  ..., 0, 0, 0]))\n",
      "aux =  Properties(normals=None, verts_uvs=tensor([[0.8004, 0.6675],\n",
      "        [0.7896, 0.6682],\n",
      "        [0.7999, 0.6639],\n",
      "        ...,\n",
      "        [0.5429, 0.3197],\n",
      "        [0.4766, 0.3259],\n",
      "        [0.4950, 0.2872]]), material_colors={'material_1': {'ambient_color': tensor([1., 1., 1.]), 'diffuse_color': tensor([1., 1., 1.]), 'specular_color': tensor([0., 0., 0.]), 'shininess': tensor([10.])}}, texture_images={'material_1': tensor([[[1.0000, 0.9333, 0.9020],\n",
      "         [1.0000, 0.9333, 0.9020],\n",
      "         [1.0000, 0.9333, 0.9020],\n",
      "         ...,\n",
      "         [1.0000, 0.9333, 0.9020],\n",
      "         [1.0000, 0.9333, 0.9020],\n",
      "         [1.0000, 0.9333, 0.9020]],\n",
      "\n",
      "        [[1.0000, 0.9333, 0.9020],\n",
      "         [1.0000, 0.9333, 0.9020],\n",
      "         [1.0000, 0.9333, 0.9020],\n",
      "         ...,\n",
      "         [1.0000, 0.9333, 0.9020],\n",
      "         [1.0000, 0.9333, 0.9020],\n",
      "         [1.0000, 0.9333, 0.9020]],\n",
      "\n",
      "        [[1.0000, 0.9333, 0.9020],\n",
      "         [1.0000, 0.9333, 0.9020],\n",
      "         [1.0000, 0.9333, 0.9020],\n",
      "         ...,\n",
      "         [1.0000, 0.9333, 0.9020],\n",
      "         [1.0000, 0.9333, 0.9020],\n",
      "         [1.0000, 0.9333, 0.9020]],\n",
      "\n",
      "        ...,\n",
      "\n",
      "        [[1.0000, 0.9333, 0.9020],\n",
      "         [1.0000, 0.9333, 0.9020],\n",
      "         [1.0000, 0.9333, 0.9020],\n",
      "         ...,\n",
      "         [1.0000, 0.9333, 0.9020],\n",
      "         [1.0000, 0.9333, 0.9020],\n",
      "         [1.0000, 0.9333, 0.9020]],\n",
      "\n",
      "        [[1.0000, 0.9333, 0.9020],\n",
      "         [1.0000, 0.9333, 0.9020],\n",
      "         [1.0000, 0.9333, 0.9020],\n",
      "         ...,\n",
      "         [1.0000, 0.9333, 0.9020],\n",
      "         [1.0000, 0.9333, 0.9020],\n",
      "         [1.0000, 0.9333, 0.9020]],\n",
      "\n",
      "        [[1.0000, 0.9333, 0.9020],\n",
      "         [1.0000, 0.9333, 0.9020],\n",
      "         [1.0000, 0.9333, 0.9020],\n",
      "         ...,\n",
      "         [1.0000, 0.9333, 0.9020],\n",
      "         [1.0000, 0.9333, 0.9020],\n",
      "         [1.0000, 0.9333, 0.9020]]])}, texture_atlas=None)\n"
     ]
    },
    {
     "name": "stderr",
     "output_type": "stream",
     "text": [
      "error: XDG_RUNTIME_DIR not set in the environment.\n"
     ]
    }
   ],
   "source": [
    "import open3d\n",
    "from pytorch3d.io import load_obj\n",
    "mesh_file = './data/cow_mesh/cow.obj'\n",
    "print('Визуализация полигональной сетки с помощью Open3D')\n",
    "mesh = open3d.io.read_triangle_mesh(mesh_file)\n",
    "open3d.visualization.draw_geometries([mesh],\n",
    "mesh_show_wireframe=True,\n",
    "mesh_show_back_face=True)\n",
    "print('Загрузка того же файла с помощью PyTorch3D')\n",
    "vertices, faces, aux = load_obj(mesh_file)\n",
    "print('Тип vertices = ', type(vertices))\n",
    "print('Type faces = ', type(faces))\n",
    "print('Тип aux = ', type(aux))\n",
    "print('vertices = ', vertices)\n",
    "print('faces = ', faces)\n",
    "print('aux = ', aux)"
   ]
  },
  {
   "cell_type": "code",
   "execution_count": 5,
   "id": "cce999ea-4d09-4c0c-a870-898f5e6029c8",
   "metadata": {},
   "outputs": [
    {
     "name": "stdout",
     "output_type": "stream",
     "text": [
      "Визуализация полигональной сетки с помощью Open3D\n",
      "Загрузка того же файла с помощью PyTorch3D\n",
      "Тип vertices =  <class 'torch.Tensor'>\n",
      "Тип faces =  <class 'pytorch3d.io.obj_io.Faces'>\n",
      "Тип aux =  <class 'pytorch3d.io.obj_io.Properties'>\n",
      "vertices =  tensor([[ 1.0000, -1.0000, -1.0000],\n",
      "        [ 1.0000, -1.0000,  1.0000],\n",
      "        [-1.0000, -1.0000,  1.0000],\n",
      "        [-1.0000, -1.0000, -1.0000],\n",
      "        [ 1.0000,  1.0000, -1.0000],\n",
      "        [ 1.0000,  1.0000,  1.0000],\n",
      "        [-1.0000,  1.0000,  1.0000],\n",
      "        [-1.0000,  1.0000, -1.0000]])\n",
      "faces =  Faces(verts_idx=tensor([[1, 2, 3],\n",
      "        [7, 6, 5],\n",
      "        [4, 5, 1],\n",
      "        [5, 6, 2],\n",
      "        [2, 6, 7],\n",
      "        [0, 3, 7],\n",
      "        [0, 1, 3],\n",
      "        [4, 7, 5],\n",
      "        [0, 4, 1],\n",
      "        [1, 5, 2],\n",
      "        [3, 2, 7],\n",
      "        [4, 0, 7]]), normals_idx=tensor([[0, 0, 0],\n",
      "        [1, 1, 1],\n",
      "        [2, 2, 2],\n",
      "        [3, 3, 3],\n",
      "        [4, 4, 4],\n",
      "        [5, 5, 5],\n",
      "        [0, 0, 0],\n",
      "        [1, 1, 1],\n",
      "        [2, 2, 2],\n",
      "        [3, 3, 3],\n",
      "        [4, 4, 4],\n",
      "        [5, 5, 5]]), textures_idx=tensor([[ 0,  1,  2],\n",
      "        [ 0,  3,  4],\n",
      "        [ 5,  6,  7],\n",
      "        [ 7,  4,  3],\n",
      "        [ 8,  9, 10],\n",
      "        [11, 12, 10],\n",
      "        [ 3,  0,  2],\n",
      "        [13,  0,  4],\n",
      "        [11,  5,  7],\n",
      "        [11,  7,  3],\n",
      "        [12,  8, 10],\n",
      "        [ 5, 11, 10]]), materials_idx=tensor([0, 0, 0, 0, 0, 0, 0, 0, 0, 0, 0, 0]))\n",
      "aux =  Properties(normals=tensor([[ 0., -1.,  0.],\n",
      "        [ 0.,  1.,  0.],\n",
      "        [ 1.,  0.,  0.],\n",
      "        [-0.,  0.,  1.],\n",
      "        [-1., -0., -0.],\n",
      "        [ 0.,  0., -1.]]), verts_uvs=tensor([[1.0000, 0.3333],\n",
      "        [1.0000, 0.6667],\n",
      "        [0.6667, 0.6667],\n",
      "        [0.6667, 0.3333],\n",
      "        [0.6667, 0.0000],\n",
      "        [0.0000, 0.3333],\n",
      "        [0.0000, 0.0000],\n",
      "        [0.3333, 0.0000],\n",
      "        [0.3333, 1.0000],\n",
      "        [0.0000, 1.0000],\n",
      "        [0.0000, 0.6667],\n",
      "        [0.3333, 0.3333],\n",
      "        [0.3333, 0.6667],\n",
      "        [1.0000, 0.0000]]), material_colors={'Skin': {'ambient_color': tensor([0.2000, 0.2000, 0.2000]), 'diffuse_color': tensor([0.8275, 0.7922, 0.7725]), 'specular_color': tensor([0., 0., 0.]), 'shininess': tensor([0.])}}, texture_images={'Skin': tensor([[[0.2078, 0.1765, 0.1020],\n",
      "         [0.2039, 0.1725, 0.0980],\n",
      "         [0.1961, 0.1647, 0.0902],\n",
      "         ...,\n",
      "         [0.2588, 0.2275, 0.1451],\n",
      "         [0.2510, 0.2196, 0.1373],\n",
      "         [0.2353, 0.2039, 0.1216]],\n",
      "\n",
      "        [[0.1922, 0.1608, 0.0863],\n",
      "         [0.1882, 0.1569, 0.0824],\n",
      "         [0.1922, 0.1608, 0.0863],\n",
      "         ...,\n",
      "         [0.2706, 0.2392, 0.1569],\n",
      "         [0.2510, 0.2196, 0.1373],\n",
      "         [0.2353, 0.2039, 0.1216]],\n",
      "\n",
      "        [[0.1843, 0.1529, 0.0784],\n",
      "         [0.1843, 0.1529, 0.0784],\n",
      "         [0.1882, 0.1569, 0.0824],\n",
      "         ...,\n",
      "         [0.2784, 0.2471, 0.1647],\n",
      "         [0.2510, 0.2196, 0.1373],\n",
      "         [0.2353, 0.2039, 0.1216]],\n",
      "\n",
      "        ...,\n",
      "\n",
      "        [[0.3176, 0.2745, 0.2039],\n",
      "         [0.3098, 0.2667, 0.1961],\n",
      "         [0.3020, 0.2588, 0.1882],\n",
      "         ...,\n",
      "         [0.1843, 0.1490, 0.0824],\n",
      "         [0.2039, 0.1686, 0.1020],\n",
      "         [0.2196, 0.1843, 0.1176]],\n",
      "\n",
      "        [[0.2941, 0.2510, 0.1804],\n",
      "         [0.2471, 0.2039, 0.1333],\n",
      "         [0.2314, 0.1882, 0.1176],\n",
      "         ...,\n",
      "         [0.2431, 0.2078, 0.1490],\n",
      "         [0.2235, 0.1882, 0.1294],\n",
      "         [0.2235, 0.1882, 0.1294]],\n",
      "\n",
      "        [[0.2784, 0.2353, 0.1647],\n",
      "         [0.2353, 0.1922, 0.1216],\n",
      "         [0.2157, 0.1725, 0.1020],\n",
      "         ...,\n",
      "         [0.2431, 0.2078, 0.1490],\n",
      "         [0.2235, 0.1882, 0.1294],\n",
      "         [0.2235, 0.1882, 0.1294]]])}, texture_atlas=None)\n",
      "texture_images type =  <class 'dict'>\n",
      "torch.Size([250, 250, 3])\n"
     ]
    },
    {
     "name": "stderr",
     "output_type": "stream",
     "text": [
      "error: XDG_RUNTIME_DIR not set in the environment.\n"
     ]
    }
   ],
   "source": [
    "import open3d\n",
    "from pytorch3d.io import load_obj\n",
    "import torch\n",
    "mesh_file = 'cube_texture.obj'\n",
    "print('Визуализация полигональной сетки с помощью Open3D')\n",
    "mesh = open3d.io.read_triangle_mesh(mesh_file)\n",
    "open3d.visualization.draw_geometries([mesh],\n",
    "mesh_show_wireframe=True,\n",
    "mesh_show_back_face=True)\n",
    "print('Загрузка того же файла с помощью PyTorch3D')\n",
    "vertices, faces, aux = load_obj(mesh_file)\n",
    "print('Тип vertices = ', type(vertices))\n",
    "print('Тип faces = ', type(faces))\n",
    "print('Тип aux = ', type(aux))\n",
    "print('vertices = ', vertices)\n",
    "print('faces = ', faces)\n",
    "print('aux = ', aux)\n",
    "texture_images = getattr(aux, 'texture_images')\n",
    "print('texture_images type = ', type(texture_images))\n",
    "print(texture_images['Skin'].shape)"
   ]
  },
  {
   "cell_type": "markdown",
   "id": "bd83d8b6-9b64-4f1b-8667-e9f8dad110f9",
   "metadata": {},
   "source": [
    "# Setting up developing environment"
   ]
  },
  {
   "cell_type": "code",
   "execution_count": 1,
   "id": "cc9593a8-f846-4fe0-b8ee-31c60aa55385",
   "metadata": {},
   "outputs": [
    {
     "name": "stdout",
     "output_type": "stream",
     "text": [
      "Jupyter environment detected. Enabling Open3D WebVisualizer.\n",
      "[Open3D INFO] WebRTC GUI backend enabled.\n",
      "[Open3D INFO] WebRTCWindowSystem: HTTP handshake server disabled.\n"
     ]
    }
   ],
   "source": [
    "import open3d\n",
    "import torch\n",
    "import pytorch3d\n",
    "from pytorch3d.io import load_obj\n",
    "from scipy.spatial.transform import Rotation as Rotation\n",
    "\n",
    "from pytorch3d.renderer.cameras import PerspectiveCameras"
   ]
  },
  {
   "cell_type": "code",
   "execution_count": 7,
   "id": "25fc42da-4855-4077-9d91-35266cc88339",
   "metadata": {},
   "outputs": [
    {
     "name": "stderr",
     "output_type": "stream",
     "text": [
      "error: XDG_RUNTIME_DIR not set in the environment.\n"
     ]
    }
   ],
   "source": [
    "mesh_file = 'cube.obj'\n",
    "mesh = open3d.io.read_triangle_mesh(mesh_file)\n",
    "open3d.visualization.draw_geometries([mesh],\n",
    "                                    mesh_show_wireframe = True,\n",
    "                                    mesh_show_back_face = True)"
   ]
  },
  {
   "cell_type": "code",
   "execution_count": 8,
   "id": "ceac4b80-ca65-46bc-ae12-fe82e5ca085e",
   "metadata": {},
   "outputs": [],
   "source": [
    "# Определить мини-пакет из 8 камер\n",
    "\n",
    "# задаем разрешение для каждой камеры как матрицу\n",
    "image_size = torch.ones(8, 2)\n",
    "image_size[:,0] = image_size[:,0] * 1024\n",
    "image_size[:,1] = image_size[:,1] * 512\n",
    "image_size = image_size.cuda()\n",
    "\n",
    "# задаем фокусное расстояние для каждой камеры как матрицу\n",
    "focal_length = torch.ones(8, 2)\n",
    "focal_length[:,0] = focal_length[:,0] * 1200\n",
    "focal_length[:,1] = focal_length[:,1] * 300\n",
    "focal_length = focal_length.cuda()\n",
    "\n",
    "# задаем фокальную точку для каждой камеры как матрицу\n",
    "principal_point = torch.ones(8, 2)\n",
    "principal_point[:,0] = principal_point[:,0] * 512\n",
    "principal_point[:,1] = principal_point[:,1] * 256\n",
    "principal_point = principal_point.cuda()\n",
    "\n",
    "R = Rotation.from_euler('zyx', [[n*5, n, n] for n in range(-4, 4, 1)], degrees=True).as_matrix()\n",
    "R = torch.from_numpy(R).cuda()\n",
    "T = [ [n, 0, 0] for n in range(-4, 4, 1)]\n",
    "T = torch.FloatTensor(T).cuda()\n",
    "\n",
    "camera = PerspectiveCameras(focal_length=focal_length,\n",
    "                            principal_point=principal_point,\n",
    "                            in_ndc=False,\n",
    "                            image_size=image_size,\n",
    "                            R=R, T=T, device='cuda')"
   ]
  },
  {
   "cell_type": "markdown",
   "id": "142eb1f2-903d-40bb-97a6-f7662194a8bb",
   "metadata": {},
   "source": [
    "### переход между различными системами координат"
   ]
  },
  {
   "cell_type": "code",
   "execution_count": 10,
   "id": "e99dd5bc-056e-424a-b11d-70bb96f2f649",
   "metadata": {},
   "outputs": [],
   "source": [
    "world_to_view_transform = camera.get_world_to_view_transform()\n",
    "world_to_screen_transform = camera.get_full_projection_transform()\n",
    "\n",
    "vertices, faces, aux = load_obj(mesh_file)\n",
    "vertices = vertices.cuda()\n",
    "\n",
    "world_to_view_vertices = world_to_view_transform.transform_points(vertices)\n",
    "world_to_screen_vertices = world_to_screen_transform.transform_points(vertices)"
   ]
  },
  {
   "cell_type": "code",
   "execution_count": null,
   "id": "572ac9c6-36bc-41d6-85f7-1463b4247c0b",
   "metadata": {},
   "outputs": [],
   "source": []
  }
 ],
 "metadata": {
  "kernelspec": {
   "display_name": "Python 3 (ipykernel)",
   "language": "python",
   "name": "python3"
  },
  "language_info": {
   "codemirror_mode": {
    "name": "ipython",
    "version": 3
   },
   "file_extension": ".py",
   "mimetype": "text/x-python",
   "name": "python",
   "nbconvert_exporter": "python",
   "pygments_lexer": "ipython3",
   "version": "3.9.21"
  }
 },
 "nbformat": 4,
 "nbformat_minor": 5
}
